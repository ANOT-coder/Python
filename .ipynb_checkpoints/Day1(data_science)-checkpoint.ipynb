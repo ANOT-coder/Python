{
 "cells": [
  {
   "cell_type": "markdown",
   "id": "04730a49-ce5e-4fca-92c0-736473d03314",
   "metadata": {},
   "source": [
    "# Single Dimension NumPy array"
   ]
  },
  {
   "cell_type": "code",
   "execution_count": 1,
   "id": "ce00b688-3638-4402-9f56-ac460682f71b",
   "metadata": {},
   "outputs": [
    {
     "name": "stdout",
     "output_type": "stream",
     "text": [
      " Volume in drive E is my_domain\n",
      " Volume Serial Number is 7A3D-1185\n",
      "\n",
      " Directory of E:\\Data_science\n",
      "\n",
      "09/06/2025  15:37    <DIR>          .\n",
      "30/05/2025  20:34    <DIR>          .ipynb_checkpoints\n",
      "03/06/2025  17:11                 0 a.py\n",
      "29/05/2025  08:20    <DIR>          anaconda_projects\n",
      "28/05/2025  21:47             1,491 Assignment.py\n",
      "09/06/2025  15:31             1,730 math.py\n",
      "27/05/2025  14:49             2,231 new.py\n",
      "30/05/2025  15:59             3,005 One.py\n",
      "03/06/2025  16:45                99 pattern.py\n",
      "01/06/2025  06:44                 8 README.md\n",
      "03/06/2025  16:28               428 test.py\n",
      "28/05/2025  16:30               252 try.cpp\n",
      "30/05/2025  17:41             1,638 Two.py\n",
      "01/06/2025  06:58             1,989 Two1.py\n",
      "27/05/2025  16:48            24,379 Untitled.ipynb\n",
      "30/05/2025  20:35             5,417 Untitled1.ipynb\n",
      "09/06/2025  15:37               337 Untitled2.ipynb\n",
      "              14 File(s)         43,004 bytes\n",
      "               3 Dir(s)  195,884,654,592 bytes free\n"
     ]
    }
   ],
   "source": [
    "!dir\n"
   ]
  },
  {
   "cell_type": "code",
   "execution_count": 3,
   "id": "0e32e4b3-121e-4baa-9b02-0b4856b0ad0c",
   "metadata": {},
   "outputs": [
    {
     "name": "stdout",
     "output_type": "stream",
     "text": [
      "Requirement already satisfied: numpy in c:\\users\\prsnn\\anaconda3\\lib\\site-packages (1.26.4)\n"
     ]
    }
   ],
   "source": [
    "!pip install numpy\n"
   ]
  },
  {
   "cell_type": "code",
   "execution_count": 4,
   "id": "6e70192a-17da-4054-949e-462c15089d0f",
   "metadata": {},
   "outputs": [],
   "source": [
    "import numpy as np"
   ]
  },
  {
   "cell_type": "code",
   "execution_count": 15,
   "id": "204c5098-6de0-4cdb-9ba6-2526e017b383",
   "metadata": {},
   "outputs": [
    {
     "data": {
      "text/plain": [
       "array([10.+0.j,  2.+0.j,  2.+3.j,  1.+0.j])"
      ]
     },
     "execution_count": 15,
     "metadata": {},
     "output_type": "execute_result"
    }
   ],
   "source": [
    "import numpy as np\n",
    "n2=np.array([10,2.0,2+3j,True]) #we cannot use different datatypes in numpy array\n",
    "n2"
   ]
  },
  {
   "cell_type": "code",
   "execution_count": 11,
   "id": "8221b57b-0d33-463b-99ba-cba9139d9d73",
   "metadata": {},
   "outputs": [
    {
     "data": {
      "text/plain": [
       "array([10, 20, 30, 40])"
      ]
     },
     "execution_count": 11,
     "metadata": {},
     "output_type": "execute_result"
    }
   ],
   "source": [
    "import numpy as np\n",
    "n1=np.array([10,20,30,40]) \n",
    "n1"
   ]
  },
  {
   "cell_type": "markdown",
   "id": "70a80c28-d212-43f3-955e-ed350e6e84c5",
   "metadata": {},
   "source": [
    "type(n1)"
   ]
  },
  {
   "cell_type": "markdown",
   "id": "6881f45a-eaa4-4334-bdd0-7bcc2445d9ff",
   "metadata": {},
   "source": [
    "# MultiDimensional Array"
   ]
  },
  {
   "cell_type": "code",
   "execution_count": 21,
   "id": "9424c75a-badf-4c9d-8215-40d38b981ebe",
   "metadata": {},
   "outputs": [
    {
     "name": "stdout",
     "output_type": "stream",
     "text": [
      "[[10 20 30]\n",
      " [30 40 50]\n",
      " [40 50 60]]\n"
     ]
    }
   ],
   "source": [
    "import numpy as np\n",
    "n3=np.array([[10,20,30],[30,40,50],[40,50,60]])\n",
    "print(n3)"
   ]
  },
  {
   "cell_type": "code",
   "execution_count": 19,
   "id": "53594c9a-d9d0-43f5-916a-5988311b53ae",
   "metadata": {},
   "outputs": [
    {
     "data": {
      "text/plain": [
       "(3, 3)"
      ]
     },
     "execution_count": 19,
     "metadata": {},
     "output_type": "execute_result"
    }
   ],
   "source": [
    "n3.shape"
   ]
  },
  {
   "cell_type": "markdown",
   "id": "a1075cb4-c533-488f-b660-ec56666f6072",
   "metadata": {},
   "source": [
    "# initialize numpy array with zeros"
   ]
  },
  {
   "cell_type": "code",
   "execution_count": 26,
   "id": "c0782325-ae5d-4568-a0d4-720be98b9007",
   "metadata": {},
   "outputs": [
    {
     "data": {
      "text/plain": [
       "array([[0., 0., 0., 0., 0., 0., 0., 0., 0.],\n",
       "       [0., 0., 0., 0., 0., 0., 0., 0., 0.],\n",
       "       [0., 0., 0., 0., 0., 0., 0., 0., 0.],\n",
       "       [0., 0., 0., 0., 0., 0., 0., 0., 0.],\n",
       "       [0., 0., 0., 0., 0., 0., 0., 0., 0.],\n",
       "       [0., 0., 0., 0., 0., 0., 0., 0., 0.],\n",
       "       [0., 0., 0., 0., 0., 0., 0., 0., 0.],\n",
       "       [0., 0., 0., 0., 0., 0., 0., 0., 0.],\n",
       "       [0., 0., 0., 0., 0., 0., 0., 0., 0.]])"
      ]
     },
     "execution_count": 26,
     "metadata": {},
     "output_type": "execute_result"
    }
   ],
   "source": [
    "n4=np.zeros((9,9))\n",
    "n4"
   ]
  },
  {
   "cell_type": "markdown",
   "id": "c849675a-e942-42a0-b502-8e3b49a56f51",
   "metadata": {},
   "source": [
    "# initial array matrix with full then"
   ]
  },
  {
   "cell_type": "code",
   "execution_count": 36,
   "id": "0a012e92-9a67-4f68-a75e-3f1a2a45994a",
   "metadata": {},
   "outputs": [
    {
     "data": {
      "text/plain": [
       "array([[9, 9, 9],\n",
       "       [9, 9, 9],\n",
       "       [9, 9, 9]])"
      ]
     },
     "execution_count": 36,
     "metadata": {},
     "output_type": "execute_result"
    }
   ],
   "source": [
    "n4=np.full((3,3),9)\n",
    "n4"
   ]
  },
  {
   "cell_type": "markdown",
   "id": "259b9222-ba89-48c1-a31b-8a774d4e1934",
   "metadata": {},
   "source": [
    "# full range"
   ]
  },
  {
   "cell_type": "code",
   "execution_count": 32,
   "id": "6f390396-5dfc-4433-a8b8-0ac9f2e34adc",
   "metadata": {},
   "outputs": [
    {
     "data": {
      "text/plain": [
       "array([10, 11, 12, 13, 14, 15, 16, 17, 18, 19])"
      ]
     },
     "execution_count": 32,
     "metadata": {},
     "output_type": "execute_result"
    }
   ],
   "source": [
    "n5=np.arange(10,20)\n",
    "n5"
   ]
  },
  {
   "cell_type": "markdown",
   "id": "44d473fa-5765-4eca-88f5-5910e135b394",
   "metadata": {},
   "source": [
    "# initialization of numpy arrays with skip numbers"
   ]
  },
  {
   "cell_type": "code",
   "execution_count": 35,
   "id": "220c9111-50ae-4c70-a5ea-9117e6bc2e4d",
   "metadata": {},
   "outputs": [
    {
     "data": {
      "text/plain": [
       "array([1, 3, 5, 7, 9])"
      ]
     },
     "execution_count": 35,
     "metadata": {},
     "output_type": "execute_result"
    }
   ],
   "source": [
    "n6=np.arange(1,10,2 ) #odd numbers\n",
    "n6"
   ]
  },
  {
   "cell_type": "markdown",
   "id": "f8da8399-05ef-493f-b239-a7f733333b35",
   "metadata": {},
   "source": [
    "# initialization of numpy array with the random numbers"
   ]
  },
  {
   "cell_type": "code",
   "execution_count": 40,
   "id": "f7181ed6-0ce5-4473-afcc-09be893e94e8",
   "metadata": {},
   "outputs": [
    {
     "data": {
      "text/plain": [
       "array([316, 372, 123, 882, 128, 765, 831, 800, 639, 278])"
      ]
     },
     "execution_count": 40,
     "metadata": {},
     "output_type": "execute_result"
    }
   ],
   "source": [
    "n7=np.random.randint(100,1000,10)\n",
    "n7"
   ]
  },
  {
   "cell_type": "markdown",
   "id": "1e5a716b-ab7d-4387-bdcd-dafe32930830",
   "metadata": {},
   "source": [
    "# initialization the array shape changes in a fraction of seconds"
   ]
  },
  {
   "cell_type": "code",
   "execution_count": 43,
   "id": "4d590a60-60bf-4aae-a9b9-297a4a4a4389",
   "metadata": {},
   "outputs": [
    {
     "data": {
      "text/plain": [
       "array([[10, 20, 30],\n",
       "       [30, 40, 50],\n",
       "       [60, 70, 80],\n",
       "       [90, 60, 50]])"
      ]
     },
     "execution_count": 43,
     "metadata": {},
     "output_type": "execute_result"
    }
   ],
   "source": [
    "n8=np.array([[10,20,30],[30,40,50],[60,70,80],[90,60,50]])\n",
    "n8"
   ]
  },
  {
   "cell_type": "code",
   "execution_count": 44,
   "id": "bb7b943c-1a08-40b4-8ded-48bc8e618289",
   "metadata": {},
   "outputs": [
    {
     "data": {
      "text/plain": [
       "(4, 3)"
      ]
     },
     "execution_count": 44,
     "metadata": {},
     "output_type": "execute_result"
    }
   ],
   "source": [
    "n8.shape"
   ]
  },
  {
   "cell_type": "code",
   "execution_count": 46,
   "id": "150f59ce-9b34-4edc-a3dc-ffbe5017f402",
   "metadata": {},
   "outputs": [
    {
     "data": {
      "text/plain": [
       "array([[10, 20, 30, 30],\n",
       "       [40, 50, 60, 70],\n",
       "       [80, 90, 60, 50]])"
      ]
     },
     "execution_count": 46,
     "metadata": {},
     "output_type": "execute_result"
    }
   ],
   "source": [
    "n8.shape=(3,4)\n",
    "n8"
   ]
  },
  {
   "cell_type": "markdown",
   "id": "a1f06d52-a108-44e2-a4b1-81de81b91237",
   "metadata": {},
   "source": [
    "# joining the numpy array"
   ]
  },
  {
   "cell_type": "code",
   "execution_count": 55,
   "id": "7ec7fc6f-0698-4b2c-a6bc-8887b2b14784",
   "metadata": {},
   "outputs": [],
   "source": [
    "a=np.array([10,20,30,4,5,6,7,8,9,12])\n",
    "b=np.array([1,2,3,4,5,6,7,9,12])"
   ]
  },
  {
   "cell_type": "code",
   "execution_count": 48,
   "id": "bf58a2e6-4395-4aa1-a0be-73a190de553c",
   "metadata": {},
   "outputs": [
    {
     "data": {
      "text/plain": [
       "array([[10, 20, 30,  4,  5,  6,  7,  8,  9, 12],\n",
       "       [ 1,  2,  3,  4,  5,  6,  7,  8,  9, 12]])"
      ]
     },
     "execution_count": 48,
     "metadata": {},
     "output_type": "execute_result"
    }
   ],
   "source": [
    "np.vstack((a,b)) # joining the numpy as vertical section"
   ]
  },
  {
   "cell_type": "code",
   "execution_count": 49,
   "id": "ec5c3c3c-5d77-43e9-a3f6-e5e2aea973b4",
   "metadata": {},
   "outputs": [
    {
     "data": {
      "text/plain": [
       "array([10, 20, 30,  4,  5,  6,  7,  8,  9, 12,  1,  2,  3,  4,  5,  6,  7,\n",
       "        8,  9, 12])"
      ]
     },
     "execution_count": 49,
     "metadata": {},
     "output_type": "execute_result"
    }
   ],
   "source": [
    "np.hstack((a,b)) # joining the numpy as horizontal section"
   ]
  },
  {
   "cell_type": "code",
   "execution_count": 56,
   "id": "5dbbd835-eecb-4a9f-9842-3103de76a489",
   "metadata": {},
   "outputs": [
    {
     "ename": "ValueError",
     "evalue": "all the input array dimensions except for the concatenation axis must match exactly, but along dimension 0, the array at index 0 has size 10 and the array at index 1 has size 9",
     "output_type": "error",
     "traceback": [
      "\u001b[1;31m---------------------------------------------------------------------------\u001b[0m",
      "\u001b[1;31mValueError\u001b[0m                                Traceback (most recent call last)",
      "Cell \u001b[1;32mIn[56], line 1\u001b[0m\n\u001b[1;32m----> 1\u001b[0m np\u001b[38;5;241m.\u001b[39mcolumn_stack((a,b))\n",
      "File \u001b[1;32m~\\anaconda3\\Lib\\site-packages\\numpy\\lib\\shape_base.py:652\u001b[0m, in \u001b[0;36mcolumn_stack\u001b[1;34m(tup)\u001b[0m\n\u001b[0;32m    650\u001b[0m         arr \u001b[38;5;241m=\u001b[39m array(arr, copy\u001b[38;5;241m=\u001b[39m\u001b[38;5;28;01mFalse\u001b[39;00m, subok\u001b[38;5;241m=\u001b[39m\u001b[38;5;28;01mTrue\u001b[39;00m, ndmin\u001b[38;5;241m=\u001b[39m\u001b[38;5;241m2\u001b[39m)\u001b[38;5;241m.\u001b[39mT\n\u001b[0;32m    651\u001b[0m     arrays\u001b[38;5;241m.\u001b[39mappend(arr)\n\u001b[1;32m--> 652\u001b[0m \u001b[38;5;28;01mreturn\u001b[39;00m _nx\u001b[38;5;241m.\u001b[39mconcatenate(arrays, \u001b[38;5;241m1\u001b[39m)\n",
      "\u001b[1;31mValueError\u001b[0m: all the input array dimensions except for the concatenation axis must match exactly, but along dimension 0, the array at index 0 has size 10 and the array at index 1 has size 9"
     ]
    }
   ],
   "source": [
    "np.column_stack((a,b)) #joining the numpy as column"
   ]
  },
  {
   "cell_type": "markdown",
   "id": "4cd7d3b3-453c-4330-9078-62973149dff4",
   "metadata": {},
   "source": [
    "# numpy intersection and difference"
   ]
  },
  {
   "cell_type": "code",
   "execution_count": 58,
   "id": "4fee3a9b-450d-4b86-9d10-d1df3a95623f",
   "metadata": {},
   "outputs": [],
   "source": [
    "x=np.array([1,4,6,7,8,9,12])\n",
    "y=np.array([1,4,5,6,7,8,12])\n"
   ]
  },
  {
   "cell_type": "code",
   "execution_count": 59,
   "id": "e28c1f69-bf30-4d17-ad40-50d1a9c025d2",
   "metadata": {},
   "outputs": [
    {
     "data": {
      "text/plain": [
       "array([ 1,  4,  6,  7,  8, 12])"
      ]
     },
     "execution_count": 59,
     "metadata": {},
     "output_type": "execute_result"
    }
   ],
   "source": [
    "np.intersect1d(x,y)"
   ]
  },
  {
   "cell_type": "code",
   "execution_count": 60,
   "id": "bde075ab-722e-43b2-b76f-24e7758ed8e0",
   "metadata": {},
   "outputs": [
    {
     "data": {
      "text/plain": [
       "array([9])"
      ]
     },
     "execution_count": 60,
     "metadata": {},
     "output_type": "execute_result"
    }
   ],
   "source": [
    "np.setdiff1d(x,y)"
   ]
  },
  {
   "cell_type": "markdown",
   "id": "14ac51fa-4b80-4dab-9e78-a6c03728884b",
   "metadata": {},
   "source": [
    "# addition of numpy arrays"
   ]
  },
  {
   "cell_type": "code",
   "execution_count": 61,
   "id": "a1edae3c-e806-4df3-902b-ef1e960d5443",
   "metadata": {},
   "outputs": [],
   "source": [
    "t=np.array([10,20,30,4,5,6,7,9,12])\n",
    "s=np.array([1,2,3,4,5,6,7,9,12])"
   ]
  },
  {
   "cell_type": "code",
   "execution_count": null,
   "id": "5524b531-d1d6-4c62-bb90-fc89454b16f6",
   "metadata": {},
   "outputs": [],
   "source": []
  }
 ],
 "metadata": {
  "kernelspec": {
   "display_name": "Python 3 (ipykernel)",
   "language": "python",
   "name": "python3"
  },
  "language_info": {
   "codemirror_mode": {
    "name": "ipython",
    "version": 3
   },
   "file_extension": ".py",
   "mimetype": "text/x-python",
   "name": "python",
   "nbconvert_exporter": "python",
   "pygments_lexer": "ipython3",
   "version": "3.12.7"
  }
 },
 "nbformat": 4,
 "nbformat_minor": 5
}
