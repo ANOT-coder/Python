{
 "cells": [
  {
   "cell_type": "code",
   "execution_count": null,
   "id": "55ef50b5-2591-4833-9945-e047d17cec8c",
   "metadata": {},
   "outputs": [
    {
     "name": "stdin",
     "output_type": "stream",
     "text": [
      "Enter the size of the queue:  3\n"
     ]
    },
    {
     "name": "stdout",
     "output_type": "stream",
     "text": [
      "\n",
      "__Queue Operations__\n",
      "1. Enqueue\n",
      "2. Dequeue\n",
      "3. Traverse\n",
      "4. Exit\n"
     ]
    },
    {
     "name": "stdin",
     "output_type": "stream",
     "text": [
      "\n",
      "Enter your choice:  1\n",
      "Enter value to enqueue:  7\n"
     ]
    },
    {
     "name": "stdout",
     "output_type": "stream",
     "text": [
      "Item being inserted is: 7\n"
     ]
    },
    {
     "name": "stdin",
     "output_type": "stream",
     "text": [
      "\n",
      "Enter your choice:  1\n",
      "Enter value to enqueue:  8\n"
     ]
    },
    {
     "name": "stdout",
     "output_type": "stream",
     "text": [
      "Item being inserted is: 8\n"
     ]
    },
    {
     "name": "stdin",
     "output_type": "stream",
     "text": [
      "\n",
      "Enter your choice:  1\n",
      "Enter value to enqueue:  11\n"
     ]
    },
    {
     "name": "stdout",
     "output_type": "stream",
     "text": [
      "Item being inserted is: 11\n"
     ]
    },
    {
     "name": "stdin",
     "output_type": "stream",
     "text": [
      "\n",
      "Enter your choice:  1\n",
      "Enter value to enqueue:  14\n"
     ]
    },
    {
     "name": "stdout",
     "output_type": "stream",
     "text": [
      "Queue overflow\n"
     ]
    },
    {
     "name": "stdin",
     "output_type": "stream",
     "text": [
      "\n",
      "Enter your choice:  2\n"
     ]
    },
    {
     "name": "stdout",
     "output_type": "stream",
     "text": [
      "Dequeued item is: 7\n"
     ]
    },
    {
     "name": "stdin",
     "output_type": "stream",
     "text": [
      "\n",
      "Enter your choice:  3\n"
     ]
    },
    {
     "name": "stdout",
     "output_type": "stream",
     "text": [
      "Queue items:\n",
      "8 11 \n"
     ]
    }
   ],
   "source": [
    "class CircularQueue:\n",
    "    def __init__(self, size):\n",
    "        self.queue = [None] * size\n",
    "        self.size = size\n",
    "        self.front = -1\n",
    "        self.rear = -1\n",
    "\n",
    "    def enqueue(self, item):\n",
    "        if (self.rear + 1) % self.size == self.front:\n",
    "            print('Queue overflow')\n",
    "            return\n",
    "\n",
    "        if self.front == -1:  \n",
    "            self.front = 0\n",
    "            self.rear = 0\n",
    "        else:\n",
    "            self.rear = (self.rear + 1) % self.size\n",
    "\n",
    "        self.queue[self.rear] = item\n",
    "        print(f'Item being inserted is: {item}')\n",
    "\n",
    "    def dequeue(self):\n",
    "        if self.front == -1:\n",
    "            print('Queue underflow')\n",
    "            return\n",
    "\n",
    "        removed_item = self.queue[self.front]\n",
    "        self.queue[self.front] = None\n",
    "\n",
    "        if self.front == self.rear:\n",
    "            self.front = -1\n",
    "            self.rear = -1\n",
    "        else:\n",
    "            self.front = (self.front + 1) % self.size\n",
    "\n",
    "        print(f'Dequeued item is: {removed_item}')\n",
    "\n",
    "    def traverse(self):\n",
    "        if self.front == -1:\n",
    "            print(\"Queue underflow\")\n",
    "            return\n",
    "\n",
    "        print(\"Queue items:\")\n",
    "        i = self.front\n",
    "        while True:\n",
    "            print(self.queue[i], end=\" \")\n",
    "            if i == self.rear:\n",
    "                break\n",
    "            i = (i + 1) % self.size\n",
    "        print()\n",
    "\n",
    "def main():\n",
    "    size = int(input('Enter the size of the queue: '))\n",
    "    q = CircularQueue(size)\n",
    "\n",
    "    print('\\n__Queue Operations__')\n",
    "    print('1. Enqueue')\n",
    "    print('2. Dequeue')\n",
    "    print('3. Traverse')\n",
    "    print('4. Exit')\n",
    "\n",
    "    while True:\n",
    "        choice = input('\\nEnter your choice: ')\n",
    "        if choice == '1':\n",
    "            item = input('Enter value to enqueue: ')\n",
    "            q.enqueue(item)\n",
    "        elif choice == '2':\n",
    "            q.dequeue()\n",
    "        elif choice == '3':\n",
    "            q.traverse()\n",
    "        elif choice == '4':\n",
    "            break\n",
    "        else:\n",
    "            print('Invalid choice.')\n",
    "\n",
    "if __name__ == '__main__':\n",
    "    main()\n"
   ]
  },
  {
   "cell_type": "code",
   "execution_count": null,
   "id": "ba70a2a2-15c5-40ce-82e6-14a8df14fdae",
   "metadata": {},
   "outputs": [],
   "source": []
  }
 ],
 "metadata": {
  "kernelspec": {
   "display_name": "Python 3 (ipykernel)",
   "language": "python",
   "name": "python3"
  },
  "language_info": {
   "codemirror_mode": {
    "name": "ipython",
    "version": 3
   },
   "file_extension": ".py",
   "mimetype": "text/x-python",
   "name": "python",
   "nbconvert_exporter": "python",
   "pygments_lexer": "ipython3",
   "version": "3.13.0"
  }
 },
 "nbformat": 4,
 "nbformat_minor": 5
}
