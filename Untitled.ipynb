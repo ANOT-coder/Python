{
 "cells": [
  {
   "cell_type": "markdown",
   "id": "bbf6ac3a-75a8-4748-b516-50f5f7e65b6c",
   "metadata": {},
   "source": [
    "# this is machine learning\n"
   ]
  },
  {
   "cell_type": "code",
   "execution_count": 1,
   "id": "d273056b-bf6e-4fad-8d38-d33349fe70bc",
   "metadata": {},
   "outputs": [],
   "source": [
    "# this is machine learning"
   ]
  },
  {
   "cell_type": "code",
   "execution_count": 2,
   "id": "178b11d2-8553-42ce-a9be-d12a9226fab5",
   "metadata": {},
   "outputs": [
    {
     "name": "stdout",
     "output_type": "stream",
     "text": [
      "Prasanna\n"
     ]
    }
   ],
   "source": [
    "print('Prasanna')\n"
   ]
  },
  {
   "cell_type": "code",
   "execution_count": 3,
   "id": "db19301a-776b-49b9-9026-7bf661c994dc",
   "metadata": {},
   "outputs": [
    {
     "name": "stdout",
     "output_type": "stream",
     "text": [
      "True\n"
     ]
    }
   ],
   "source": [
    "if 7>3:\n",
    "    print('True')\n",
    "else:\n",
    "    print('False')\n",
    "    "
   ]
  },
  {
   "cell_type": "code",
   "execution_count": 4,
   "id": "322558f8-6a08-4932-8890-f21bba889dbe",
   "metadata": {},
   "outputs": [],
   "source": [
    "# this is comment"
   ]
  },
  {
   "cell_type": "code",
   "execution_count": 5,
   "id": "652d1e31-de3d-4933-80b8-3005b92f4a37",
   "metadata": {},
   "outputs": [
    {
     "data": {
      "text/plain": [
       "' \\nhello\\nthis is \\nme '"
      ]
     },
     "execution_count": 5,
     "metadata": {},
     "output_type": "execute_result"
    }
   ],
   "source": [
    "\"\"\" \n",
    "hello\n",
    "this is \n",
    "me \"\"\""
   ]
  },
  {
   "cell_type": "code",
   "execution_count": 6,
   "id": "4f648d4a-4811-475d-b544-39127d596c4f",
   "metadata": {},
   "outputs": [
    {
     "data": {
      "text/plain": [
       "' \\nthis \\nis me '"
      ]
     },
     "execution_count": 6,
     "metadata": {},
     "output_type": "execute_result"
    }
   ],
   "source": [
    "''' \n",
    "this \n",
    "is me '''\n"
   ]
  },
  {
   "cell_type": "code",
   "execution_count": 7,
   "id": "0d265271-1c3c-4ea9-897b-1b537dfa2c77",
   "metadata": {},
   "outputs": [],
   "source": [
    "a=7\n"
   ]
  },
  {
   "cell_type": "code",
   "execution_count": 8,
   "id": "3301576b-3754-486f-892d-2ac3092f548d",
   "metadata": {},
   "outputs": [
    {
     "data": {
      "text/plain": [
       "int"
      ]
     },
     "execution_count": 8,
     "metadata": {},
     "output_type": "execute_result"
    }
   ],
   "source": [
    "type(a)\n"
   ]
  },
  {
   "cell_type": "code",
   "execution_count": 9,
   "id": "d485a71f-e802-468e-9723-3d3e2b004646",
   "metadata": {},
   "outputs": [],
   "source": [
    "a=4+5j\n"
   ]
  },
  {
   "cell_type": "code",
   "execution_count": 10,
   "id": "8f764211-9f26-4aca-9826-ff9c4e8005e3",
   "metadata": {},
   "outputs": [
    {
     "data": {
      "text/plain": [
       "complex"
      ]
     },
     "execution_count": 10,
     "metadata": {},
     "output_type": "execute_result"
    }
   ],
   "source": [
    "type(a)\n"
   ]
  },
  {
   "cell_type": "code",
   "execution_count": 11,
   "id": "87577628-46b8-4eb5-9b70-a1e715d4b2f5",
   "metadata": {},
   "outputs": [
    {
     "name": "stdout",
     "output_type": "stream",
     "text": [
      "Apple\n",
      "carrot\n",
      "butter\n"
     ]
    }
   ],
   "source": [
    "a,b,c='Apple','carrot','butter'\n",
    "print(a)\n",
    "print(b)\n",
    "print(c)"
   ]
  },
  {
   "cell_type": "code",
   "execution_count": 12,
   "id": "6b618fa1-7fcb-426a-af21-1478fe2228fa",
   "metadata": {},
   "outputs": [
    {
     "data": {
      "text/plain": [
       "dict_keys(['apple', 'banana', 'cherry'])"
      ]
     },
     "execution_count": 12,
     "metadata": {},
     "output_type": "execute_result"
    }
   ],
   "source": [
    "fruits={'apple':20,'banana':30,'cherry':50}\n",
    "key=fruits.keys()\n",
    "key"
   ]
  },
  {
   "cell_type": "code",
   "execution_count": 13,
   "id": "7c3eb5e3-d8b7-485f-b001-dd4484127c6e",
   "metadata": {},
   "outputs": [
    {
     "data": {
      "text/plain": [
       "dict_values([20, 30, 50])"
      ]
     },
     "execution_count": 13,
     "metadata": {},
     "output_type": "execute_result"
    }
   ],
   "source": [
    "value=fruits.values()\n",
    "value"
   ]
  },
  {
   "cell_type": "code",
   "execution_count": null,
   "id": "044f61b9-260b-45f2-9e29-0442deffa2a2",
   "metadata": {},
   "outputs": [],
   "source": [
    "#type casting in python\n",
    "number =int(input('enter a number')) #int lekheko bhaneko type cast gareko\n",
    "if number%2==0:\n",
    "               print(f'it is even number {number}')\n",
    "else:\n",
    "     print('this is odd')\n",
    "    \n"
   ]
  },
  {
   "cell_type": "markdown",
   "id": "0205669b-0481-45be-93c7-2bbc0ec32b6d",
   "metadata": {},
   "source": [
    "# this is slicing"
   ]
  },
  {
   "cell_type": "code",
   "execution_count": null,
   "id": "d29cabad-08cb-4d89-8fc7-ca0d5d5f062d",
   "metadata": {},
   "outputs": [],
   "source": [
    "b = \"hello,  World!\"\n",
    "print(b[-3:])"
   ]
  },
  {
   "cell_type": "code",
   "execution_count": null,
   "id": "c92277c9-fc26-402e-9ed5-84105d5f7ba4",
   "metadata": {},
   "outputs": [],
   "source": [
    "a=\"hello world\"\n",
    "print(a.upper())"
   ]
  },
  {
   "cell_type": "code",
   "execution_count": null,
   "id": "30d342c6-f448-497c-a4f7-6aeb2bd2cb86",
   "metadata": {},
   "outputs": [],
   "source": [
    "a=\"hello world. \"\n",
    "print(a.strip())"
   ]
  },
  {
   "cell_type": "code",
   "execution_count": null,
   "id": "7e250d64-451c-4550-abb7-598a2bb28709",
   "metadata": {
    "scrolled": true
   },
   "outputs": [],
   "source": [
    "a=\"hello world\"\n",
    "print(a.replace(\"e\",\"o\"))"
   ]
  },
  {
   "cell_type": "markdown",
   "id": "17056988-764c-4380-86dd-1f24dec66805",
   "metadata": {},
   "source": [
    "## Day2 \n"
   ]
  },
  {
   "cell_type": "code",
   "execution_count": null,
   "id": "24aedade-bede-4274-aa0a-16ff47c08b10",
   "metadata": {},
   "outputs": [],
   "source": [
    "a= int(input(' enter the  value for a :')) #typecasting with int\n",
    "maxNum = 0\n",
    "if(a> maxNum):\n",
    "    print(f'the new maximum number is :{a}')\n",
    "else:\n",
    "    print(f'the entered number {a} is not maximum number')\n",
    "          \n"
   ]
  },
  {
   "cell_type": "code",
   "execution_count": null,
   "id": "ae670e3e-1b14-4e7a-b709-7fdceeb7cac5",
   "metadata": {},
   "outputs": [],
   "source": [
    "a= float(input(' enter the  value for a :')) #typecasting with int\n",
    "maxNum = {-1.3,-1.0,-0.98,-0.5}\n",
    "if(maxNum[0]> maxNum[1]):\n",
    "    print(f'the new maximum number is :{maxNum[0]}')\n",
    "else:\n",
    "    print(f'the entered number{maxNum[0]} is not maximum number')\n",
    "          \n"
   ]
  },
  {
   "cell_type": "code",
   "execution_count": null,
   "id": "5094d8f8-feaa-4787-a452-532964b1e71e",
   "metadata": {},
   "outputs": [],
   "source": [
    "a=3\n",
    "b=25\n",
    "if a>b:\n",
    "    print(f\"{a} is greater than {b}\")\n",
    "else:\n",
    "     print(f\"{b} is greater than {a}\")"
   ]
  },
  {
   "cell_type": "code",
   "execution_count": null,
   "id": "0b5918f0-a80e-4ce1-9730-aa47c8e71f55",
   "metadata": {},
   "outputs": [],
   "source": [
    "\n",
    "x=5\n",
    "y=10\n",
    "import math\n",
    "a=(3.14*math.pi + math.exp(x)+math.log10((x**2)/y)+math.exp(y)+math.log2(x/10)+x**(3*y))\n",
    "print(a)"
   ]
  },
  {
   "cell_type": "code",
   "execution_count": null,
   "id": "4d5ffe0b-ca29-48bf-916f-78c601fcc449",
   "metadata": {},
   "outputs": [],
   "source": [
    "thisList=[\"apple\",\"apple\", \"banana\",\"cherry\"]\n",
    "print(thisList[-1])\n",
    "\n",
    "print(thisList)\n",
    "type(thisList)\n",
    "\n"
   ]
  },
  {
   "cell_type": "code",
   "execution_count": null,
   "id": "e5f09cd6-90b6-4f41-9dba-7f3125d3a0d6",
   "metadata": {},
   "outputs": [],
   "source": [
    "import math\n",
    "x=1\n",
    "a=(math.log2((math.exp(x)/(math.exp(x)+1))+(math.log10((math.exp(-x))/(math.exp(-x)+1)))+math.log((math.exp(x-1)/math.exp(x+1)+math.exp(x**2)+(x**3))))+(37*math.pi)-(18*((math.pi)**2))\n",
    "print(a)                                   "
   ]
  },
  {
   "cell_type": "code",
   "execution_count": null,
   "id": "af3c8d72-9ada-4cc0-83e6-849ae0e84d84",
   "metadata": {},
   "outputs": [],
   "source": [
    "import math\n",
    "x= 1\n",
    "result= math.log2((math.exp(x))/(math.exp(x)+1)) + math.log10((math.exp(-x))/(math.exp(-x)+1)) + math.log((math.exp(x-1))/(math.exp(x+1)+math.exp((x**2)+(x**3))))+ 37*math.pi- 18*(math.pi)**2\n",
    "print(result)"
   ]
  },
  {
   "cell_type": "code",
   "execution_count": null,
   "id": "524c8af8-fb3b-4c49-9658-abd1a9d0ba0a",
   "metadata": {},
   "outputs": [],
   "source": [
    "thisList=[\"apple\",\"apple\", \"banana\",\"cherry\"]\n",
    "thisList[1]=\"mango\"\n",
    "print(thisList)"
   ]
  },
  {
   "cell_type": "code",
   "execution_count": null,
   "id": "bdaea8e2-033d-402d-80c6-50e261c494f4",
   "metadata": {},
   "outputs": [],
   "source": [
    "thisList=[\"apple\",\"apple\", \"banana\",\"cherry\"]\n",
    "thisList[1:3]=[\"carrot\",\"spinach\"]\n",
    "print(thisList)\n",
    "thisList.insert(1,\"kiwi\")\n",
    "print(thisList)\n",
    "thisList.append(\"avocado\")\n",
    "print(thisList)"
   ]
  },
  {
   "cell_type": "code",
   "execution_count": null,
   "id": "bb823350-680e-4c1d-b77b-f01f69e523d0",
   "metadata": {},
   "outputs": [],
   "source": [
    "a=['abc','xyz','pqr']\n",
    "b=['def','rst','lmn']\n",
    "a.extend(b)\n",
    "print(a)\n",
    "a.append(b)\n",
    "print(a)"
   ]
  },
  {
   "cell_type": "code",
   "execution_count": null,
   "id": "4ae65791-5373-425b-86a1-6e30d9e9ca77",
   "metadata": {},
   "outputs": [],
   "source": [
    "thisList=[\"apple\",\"apple\", \"banana\",\"cherry\"]\n",
    "thisList.remove(thisList[1])\n",
    "print(thisList)"
   ]
  },
  {
   "cell_type": "code",
   "execution_count": null,
   "id": "53c5b58c-ca80-4f3c-9ff5-fce57ba1e476",
   "metadata": {},
   "outputs": [],
   "source": [
    "thisList=[\"apple\",\"apple\", \"banana\",\"cherry\"]\n",
    "thisList.pop(1)\n",
    "print(thisList)\n",
    "del(thisList)\n"
   ]
  },
  {
   "cell_type": "code",
   "execution_count": null,
   "id": "d3162e1a-de34-4184-a662-8b9f261c25e0",
   "metadata": {},
   "outputs": [],
   "source": [
    "thisList=[\"apple\",\"apple\", \"banana\",\"cherry\"]\n",
    "for x in thisList:\n",
    "    print(x)"
   ]
  },
  {
   "cell_type": "code",
   "execution_count": null,
   "id": "1c28ad72-43cd-4346-821d-3d71e98e8d51",
   "metadata": {},
   "outputs": [],
   "source": [
    "#fibonacci\n",
    "x=int(input(\"enter the nth term:\"))"
   ]
  },
  {
   "cell_type": "markdown",
   "id": "55b558f2-706a-4f7f-b0bc-20215ddd62b5",
   "metadata": {},
   "source": [
    "#day3\n"
   ]
  },
  {
   "cell_type": "code",
   "execution_count": null,
   "id": "101f5d9e-f486-42fb-a3dd-ab4955a52a9d",
   "metadata": {},
   "outputs": [],
   "source": [
    "thisTuple=('apple','banana','cherry','apple')\n",
    "print(thisTuple)"
   ]
  },
  {
   "cell_type": "code",
   "execution_count": null,
   "id": "efcf8c7c-4a74-4c6f-b84f-94e11577b20c",
   "metadata": {},
   "outputs": [],
   "source": [
    "thisTuple=('apple','banana','cherry','apple')\n",
    "print(len(thisTuple))\n"
   ]
  },
  {
   "cell_type": "code",
   "execution_count": null,
   "id": "885ddc0e-41cd-4338-abfb-cf818d511129",
   "metadata": {},
   "outputs": [],
   "source": [
    "thisTuple=('apple','banana','cherry','apple')\n",
    "print(type(thisTuple))"
   ]
  },
  {
   "cell_type": "code",
   "execution_count": null,
   "id": "f6e020cd-ce01-466e-8edb-25078efcac52",
   "metadata": {},
   "outputs": [],
   "source": [
    "x=('apple','banana','cherry','apple')# to change the elements in tuple\n",
    "y=list(x)\n",
    "y[1]=\"kiwi\"\n",
    "x=tuple(y)\n",
    "print(x)\n"
   ]
  },
  {
   "cell_type": "code",
   "execution_count": null,
   "id": "f4b6adb5-900a-4acf-96d1-8d7a0e40c9ba",
   "metadata": {},
   "outputs": [],
   "source": [
    "x=('apple','banana','cherry','apple')# to change the elements in tuple\n",
    "y=list(x)\n",
    "y.append(\"orange\")\n",
    "x=tuple(y)\n",
    "print(x)\n"
   ]
  },
  {
   "cell_type": "code",
   "execution_count": null,
   "id": "d8b18438-6b3f-4f1a-ad9d-81ed38dcc8ff",
   "metadata": {},
   "outputs": [],
   "source": [
    "x=lambda a: a+10\n",
    "print(x(5))"
   ]
  },
  {
   "cell_type": "code",
   "execution_count": null,
   "id": "47e7e1ae-7f15-4186-8744-1dafd531713b",
   "metadata": {},
   "outputs": [],
   "source": [
    "x= lambda a: 'even' if a%2==0 else 'odd'\n",
    "print(x(5))"
   ]
  },
  {
   "cell_type": "code",
   "execution_count": null,
   "id": "b33980cc-bf8a-45c0-817c-258dae05da6e",
   "metadata": {},
   "outputs": [],
   "source": [
    "x= lambda a:'postive' if a>=0 else('negative' if a<0 else 'zero')\n",
    "print(x(-9))"
   ]
  },
  {
   "cell_type": "code",
   "execution_count": null,
   "id": "a6a0b4e0-42a7-45f8-b3ec-e5587d2abe69",
   "metadata": {},
   "outputs": [],
   "source": [
    "x=7\n",
    "if(x>0):\n",
    "    print(\"postive\")\n",
    "elif(x<0):\n",
    "    print(\"negative\")\n",
    "else:\n",
    "    print(\"zero\")"
   ]
  },
  {
   "cell_type": "code",
   "execution_count": null,
   "id": "87c947a4-c73a-4efc-abbc-a231b10c73e9",
   "metadata": {},
   "outputs": [],
   "source": [
    "thisSet={'apple','banana','Cherry','Apple'}\n",
    "print(thisSet)"
   ]
  },
  {
   "cell_type": "code",
   "execution_count": null,
   "id": "7d7bca92-0e19-461b-ba2f-77ca3b76c6e9",
   "metadata": {},
   "outputs": [],
   "source": [
    "thisSet={'apple','banana','Cherry','Apple'}\n",
    "for x in thisSet:\n",
    "    print(x)\n",
    "print('apple' in thisSet)\n",
    "    "
   ]
  },
  {
   "cell_type": "code",
   "execution_count": null,
   "id": "2261fd0c-cc4b-4e5d-8c4d-f9ea9f3554fb",
   "metadata": {},
   "outputs": [],
   "source": [
    "thisSet={'apple','banana','Cherry','Apple'}\n",
    "thisSet.add(\"Orange\")\n",
    "print(thisSet)"
   ]
  },
  {
   "cell_type": "code",
   "execution_count": null,
   "id": "6fbb41e0-2829-47bb-bd3f-ebf3e972b580",
   "metadata": {},
   "outputs": [],
   "source": [
    "thisSet={'apple','banana','Cherry','Apple'}\n",
    "tropical={'pineapple','mango', 'papaya'}\n",
    "thisSet.update(tropical)\n",
    "print(thisSet)\n"
   ]
  },
  {
   "cell_type": "code",
   "execution_count": null,
   "id": "c1822a02-da66-4456-8d21-75355abcc5b9",
   "metadata": {},
   "outputs": [],
   "source": [
    "set1={1,'e',3.5}\n",
    "set2={2,\"b\",\"c\"}\n",
    "set3=set1.union(set2)\n",
    "set4=set1 | set2\n",
    "print(set3)\n",
    "print(set4)"
   ]
  },
  {
   "cell_type": "code",
   "execution_count": null,
   "id": "45d3f1c3-af9a-4a95-80d8-3491cd95e73b",
   "metadata": {},
   "outputs": [],
   "source": [
    "set1={1,'a',3}\n",
    "set2={'a',\"b\",\"c\"}\n",
    "set3=set1.intersection(set2)\n",
    "print(set3)\n",
    "set4=set1 & set2\n",
    "print(set4)"
   ]
  },
  {
   "cell_type": "code",
   "execution_count": null,
   "id": "32cf3ac5-8399-45fc-bffe-b6a3ede9fba7",
   "metadata": {},
   "outputs": [],
   "source": [
    "set1={1,2,3,4,5,6,7,8,9,10}\n",
    "set2={8,9,10,11,12}\n",
    "set3 =set1.difference(set2)\n",
    "print(set3)"
   ]
  },
  {
   "cell_type": "code",
   "execution_count": null,
   "id": "ce658d9c-65b5-4d5a-a61c-159c1b8153f4",
   "metadata": {},
   "outputs": [],
   "source": [
    "a={1,2,3}\n",
    "b=[4,5]\n",
    "d=a.union(b)\n",
    "e=a|b\n",
    "print(d)\n",
    "print(e)"
   ]
  },
  {
   "cell_type": "code",
   "execution_count": null,
   "id": "e8378984-90ee-41f9-af11-36f145831c8b",
   "metadata": {},
   "outputs": [],
   "source": [
    "set1={1,2,3,4,5,6,7,8,9,10}\n",
    "set2={8,9,10,11,12}\n",
    "set3=set1.symmetric_difference(set2)\n",
    "set4=set1 ^ set2\n",
    "print(set3)\n",
    "print(set4)"
   ]
  },
  {
   "cell_type": "code",
   "execution_count": null,
   "id": "830dd7ba-e789-40d6-8c85-224ede86225a",
   "metadata": {},
   "outputs": [],
   "source": [
    "a={1,2,3}\n",
    "b=[4,5]\n",
    "d=a.difference( b\n",
    "print(d)"
   ]
  },
  {
   "cell_type": "code",
   "execution_count": null,
   "id": "0b43839c-a399-4799-bc1a-b85fb90b54ef",
   "metadata": {},
   "outputs": [],
   "source": [
    "thisdict = {\n",
    "  \"brand\": \"Ford\",\n",
    "  \"model\": \"Mustang\",\n",
    "  \"year\": 1964\n",
    "}\n",
    "\n",
    "thisdict.values()\n"
   ]
  },
  {
   "cell_type": "code",
   "execution_count": null,
   "id": "04e50583-9b15-4894-bb1d-f812066182a9",
   "metadata": {},
   "outputs": [],
   "source": [
    "thisdict = {\n",
    "  \"brand\": \"Ford\",\n",
    "  \"model\": \"Mustang\",\n",
    "  \"year\": 1964\n",
    "}\n",
    "thisdict.keys()"
   ]
  },
  {
   "cell_type": "code",
   "execution_count": null,
   "id": "83eb19c5-da05-4836-9f9e-4f7b9cde649a",
   "metadata": {},
   "outputs": [],
   "source": [
    "thisdict = {\n",
    "  \"brand\": \"Ford\",\n",
    "  \"model\": \"Mustang\",\n",
    "  \"year\": 1964\n",
    "}\n",
    "thisdict[\"year\"]=2000 #change keys values\n",
    "thisdict.values()"
   ]
  },
  {
   "cell_type": "code",
   "execution_count": null,
   "id": "3a0d44bb-1128-43fd-b73e-30af0ca74c26",
   "metadata": {},
   "outputs": [],
   "source": [
    "def ticketCalculator(c,d):\n",
    "    if(c=='First Class'):\n",
    "        price=5\n",
    "    elif(c=='Second Class'):\n",
    "        price=3\n",
    "    else:\n",
    "        price=1\n",
    "    while d>500:\n",
    "        price-0.10*price\n",
    "        \n",
    "b=input('Enter your name:')\n",
    "c=input('Select the train class to travel [First Class | Second Class | Third Class]:')\n",
    "d=float(input(\"Enter the distance to be travel:\"))\n",
    "print(f'The ticket fare of the passenger{b} is {ticketCalculator(c,d)}')"
   ]
  },
  {
   "cell_type": "code",
   "execution_count": 6,
   "id": "5818b9d7-e8ec-4aec-a4c7-14b3e73ae741",
   "metadata": {},
   "outputs": [
    {
     "name": "stdout",
     "output_type": "stream",
     "text": [
      "Manjil\n"
     ]
    }
   ],
   "source": [
    "myfamily = {\n",
    "  \"child1\" : {\n",
    "    \"name\" : \"Prasanna\",\n",
    "    \"year\" : 2004\n",
    "  },\n",
    "  \"child2\" : {\n",
    "    \"name\" : \"Manjil\",\n",
    "    \"year\" : 2007\n",
    "  },\n",
    "  \"child3\" : {\n",
    "    \"name\" : \"santu\",\n",
    "    \"year\" : 2011\n",
    "  }\n",
    "}\n",
    "\n",
    "\n",
    "print(myfamily[\"child2\"][\"name\"])"
   ]
  },
  {
   "cell_type": "code",
   "execution_count": 1,
   "id": "612c2d36-3cea-40c3-97f4-2b2f5626c740",
   "metadata": {},
   "outputs": [
    {
     "name": "stdout",
     "output_type": "stream",
     "text": [
      "Mustang\n"
     ]
    }
   ],
   "source": [
    "thisdict = {\n",
    "  \"brand\": \"Ford\",\n",
    "  \"model\": \"Mustang\",\n",
    "  \"year\": 1964,\n",
    "  \"year\": 2020\n",
    "}\n",
    "print(thisdict.get('model'))"
   ]
  },
  {
   "cell_type": "code",
   "execution_count": 2,
   "id": "8e555d79-4cdc-4224-9bbe-644f415d55ec",
   "metadata": {},
   "outputs": [],
   "source": [
    "#match statement is like switch case in C/C++"
   ]
  },
  {
   "cell_type": "code",
   "execution_count": 3,
   "id": "f35cd7a5-9ecf-42ff-bfe7-ad16ae91cf34",
   "metadata": {},
   "outputs": [
    {
     "name": "stdin",
     "output_type": "stream",
     "text": [
      "enter the day 5\n"
     ]
    },
    {
     "name": "stdout",
     "output_type": "stream",
     "text": [
      "thursday\n"
     ]
    }
   ],
   "source": [
    "day=int(input(\"enter the day\"))\n",
    "match day:\n",
    "  case 1:\n",
    "      print(\"sunday\")\n",
    "  case 2:\n",
    "      print(\"monday\")\n",
    "  case 3:\n",
    "       print(\"tuesday\")\n",
    "  case 4:\n",
    "       print(\"wednesday\")\n",
    "  case 5:\n",
    "       print(\"thursday\")\n",
    "  case 6:\n",
    "       print(\"friday\")\n",
    "  case 7:\n",
    "       print(\"saturday\")\n",
    "  case _ :\n",
    "       print(\"INvalid \")\n",
    "  \n",
    "      \n"
   ]
  },
  {
   "cell_type": "code",
   "execution_count": 4,
   "id": "3100c2ac-a6bc-4e6b-be3e-5f807ac2e24d",
   "metadata": {},
   "outputs": [
    {
     "name": "stdin",
     "output_type": "stream",
     "text": [
      "enter the day 7\n"
     ]
    },
    {
     "name": "stdout",
     "output_type": "stream",
     "text": [
      "i love weekends\n"
     ]
    }
   ],
   "source": [
    "day=int(input(\"enter the day\"))\n",
    "match day:\n",
    "    case 1|2|3|4|5:\n",
    "        print(\"today is monday\")\n",
    "    case 6|7:\n",
    "        print(\"i love weekends\")\n",
    "              \n"
   ]
  },
  {
   "cell_type": "code",
   "execution_count": 9,
   "id": "34745c2b-f1f0-49f6-8c71-f349436d169e",
   "metadata": {},
   "outputs": [
    {
     "name": "stdout",
     "output_type": "stream",
     "text": [
      "cherry\n"
     ]
    }
   ],
   "source": [
    "a,b,*c=\"apple\", \"banana\",\"cherry\",\"dates\",\"bubble\"\n",
    "print(c[0])\n"
   ]
  },
  {
   "cell_type": "code",
   "execution_count": 10,
   "id": "0486a605-162f-4a6f-a68a-6d15a6f9a741",
   "metadata": {},
   "outputs": [
    {
     "name": "stdin",
     "output_type": "stream",
     "text": [
      "enter the day 5\n",
      "enter the month 10\n"
     ]
    },
    {
     "name": "stdout",
     "output_type": "stream",
     "text": [
      "no match\n"
     ]
    }
   ],
   "source": [
    "day=int(input(\"enter the day\"))\n",
    "month=int(input(\"enter the month\"))\n",
    "match day:\n",
    "     case 1|2|3|4|5 if month == 4:\n",
    "         print(\"A week day in April\")\n",
    "     case 1|2|3|4|5 if month == 5:\n",
    "         print(\"A week day in April\")\n",
    "     case _:\n",
    "         print(\"no match\")"
   ]
  },
  {
   "cell_type": "code",
   "execution_count": 21,
   "id": "0cce3dc7-7808-4e19-8576-c17b2edd8c03",
   "metadata": {},
   "outputs": [
    {
     "name": "stdin",
     "output_type": "stream",
     "text": [
      "enter what do you want to find TSA 2 or Volume 1 of solid 2\n"
     ]
    },
    {
     "name": "stdout",
     "output_type": "stream",
     "text": [
      "13194.68914507713\n"
     ]
    }
   ],
   "source": [
    "## import math\n",
    "expression=int(input(\"enter what do you want to find TSA 2 or Volume 1 of solid\"))\n",
    "def combined_solver(expression)\n",
    "r=7\n",
    "h=20\n",
    "vol=0\n",
    "tsa=0\n",
    "match expression:\n",
    "      case 1:\n",
    "          vol=2/3*(math.pi*r**3)+math.pi*r**2*h\n",
    "          print (vol)\n",
    "      case 2:\n",
    "          tsa=4*math.pi*r**2*h+2*math.pi*r*h\n",
    "          print (tsa)\n",
    "      case _:\n",
    "          print(\"not available\")\n",
    "\n",
    "print(f\"volume:{combined_solver(expression}\")\n",
    "\n",
    "\n",
    "  \n",
    "\n"
   ]
  },
  {
   "cell_type": "code",
   "execution_count": null,
   "id": "102c6326-f817-490d-bb25-c935d0632636",
   "metadata": {},
   "outputs": [],
   "source": [
    "a=int(input('Enter your age:'))\n",
    "b=int(input('Enter your height:'))\n",
    "c=int(input('Enter your weight:'))\n",
    "def display(case):\n",
    "    match case:\n",
    "          case 1:\n",
    "              print(f\"age:{a}\")\n",
    "          case 2:\n",
    "              print(f\"height{b}\")\n",
    "          case 3:\n",
    "              \n",
    "\n",
    "\n",
    "\n",
    "\n",
    "    \n",
    "b=input('Enter your height:')\n",
    "c=input('Enter your weight:')"
   ]
  }
 ],
 "metadata": {
  "kernelspec": {
   "display_name": "Python [conda env:base] *",
   "language": "python",
   "name": "conda-base-py"
  },
  "language_info": {
   "codemirror_mode": {
    "name": "ipython",
    "version": 3
   },
   "file_extension": ".py",
   "mimetype": "text/x-python",
   "name": "python",
   "nbconvert_exporter": "python",
   "pygments_lexer": "ipython3",
   "version": "3.12.7"
  }
 },
 "nbformat": 4,
 "nbformat_minor": 5
}
