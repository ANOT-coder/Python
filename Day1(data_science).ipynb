{
 "cells": [
  {
   "cell_type": "markdown",
   "id": "04730a49-ce5e-4fca-92c0-736473d03314",
   "metadata": {},
   "source": [
    "# Single Dimension NumPy array"
   ]
  },
  {
   "cell_type": "code",
   "execution_count": 1,
   "id": "ce00b688-3638-4402-9f56-ac460682f71b",
   "metadata": {},
   "outputs": [
    {
     "name": "stdout",
     "output_type": "stream",
     "text": [
      " Volume in drive E is my_domain\n",
      " Volume Serial Number is 7A3D-1185\n",
      "\n",
      " Directory of E:\\Data_science\n",
      "\n",
      "09/06/2025  15:37    <DIR>          .\n",
      "30/05/2025  20:34    <DIR>          .ipynb_checkpoints\n",
      "03/06/2025  17:11                 0 a.py\n",
      "29/05/2025  08:20    <DIR>          anaconda_projects\n",
      "28/05/2025  21:47             1,491 Assignment.py\n",
      "09/06/2025  15:31             1,730 math.py\n",
      "27/05/2025  14:49             2,231 new.py\n",
      "30/05/2025  15:59             3,005 One.py\n",
      "03/06/2025  16:45                99 pattern.py\n",
      "01/06/2025  06:44                 8 README.md\n",
      "03/06/2025  16:28               428 test.py\n",
      "28/05/2025  16:30               252 try.cpp\n",
      "30/05/2025  17:41             1,638 Two.py\n",
      "01/06/2025  06:58             1,989 Two1.py\n",
      "27/05/2025  16:48            24,379 Untitled.ipynb\n",
      "30/05/2025  20:35             5,417 Untitled1.ipynb\n",
      "09/06/2025  15:37               337 Untitled2.ipynb\n",
      "              14 File(s)         43,004 bytes\n",
      "               3 Dir(s)  195,884,654,592 bytes free\n"
     ]
    }
   ],
   "source": [
    "!dir\n"
   ]
  },
  {
   "cell_type": "code",
   "execution_count": 3,
   "id": "0e32e4b3-121e-4baa-9b02-0b4856b0ad0c",
   "metadata": {},
   "outputs": [
    {
     "name": "stdout",
     "output_type": "stream",
     "text": [
      "Requirement already satisfied: numpy in c:\\users\\prsnn\\anaconda3\\lib\\site-packages (1.26.4)\n"
     ]
    }
   ],
   "source": [
    "!pip install numpy\n"
   ]
  },
  {
   "cell_type": "code",
   "execution_count": 4,
   "id": "6e70192a-17da-4054-949e-462c15089d0f",
   "metadata": {},
   "outputs": [],
   "source": [
    "import numpy as np"
   ]
  },
  {
   "cell_type": "code",
   "execution_count": 15,
   "id": "204c5098-6de0-4cdb-9ba6-2526e017b383",
   "metadata": {},
   "outputs": [
    {
     "data": {
      "text/plain": [
       "array([10.+0.j,  2.+0.j,  2.+3.j,  1.+0.j])"
      ]
     },
     "execution_count": 15,
     "metadata": {},
     "output_type": "execute_result"
    }
   ],
   "source": [
    "import numpy as np\n",
    "n2=np.array([10,2.0,2+3j,True]) #we cannot use different datatypes in numpy array\n",
    "n2"
   ]
  },
  {
   "cell_type": "code",
   "execution_count": 11,
   "id": "8221b57b-0d33-463b-99ba-cba9139d9d73",
   "metadata": {},
   "outputs": [
    {
     "data": {
      "text/plain": [
       "array([10, 20, 30, 40])"
      ]
     },
     "execution_count": 11,
     "metadata": {},
     "output_type": "execute_result"
    }
   ],
   "source": [
    "import numpy as np\n",
    "n1=np.array([10,20,30,40]) \n",
    "n1"
   ]
  },
  {
   "cell_type": "markdown",
   "id": "70a80c28-d212-43f3-955e-ed350e6e84c5",
   "metadata": {},
   "source": [
    "type(n1)"
   ]
  },
  {
   "cell_type": "markdown",
   "id": "6881f45a-eaa4-4334-bdd0-7bcc2445d9ff",
   "metadata": {},
   "source": [
    "# MultiDimensional Array"
   ]
  },
  {
   "cell_type": "code",
   "execution_count": 21,
   "id": "9424c75a-badf-4c9d-8215-40d38b981ebe",
   "metadata": {},
   "outputs": [
    {
     "name": "stdout",
     "output_type": "stream",
     "text": [
      "[[10 20 30]\n",
      " [30 40 50]\n",
      " [40 50 60]]\n"
     ]
    }
   ],
   "source": [
    "import numpy as np\n",
    "n3=np.array([[10,20,30],[30,40,50],[40,50,60]])\n",
    "print(n3)"
   ]
  },
  {
   "cell_type": "code",
   "execution_count": 19,
   "id": "53594c9a-d9d0-43f5-916a-5988311b53ae",
   "metadata": {},
   "outputs": [
    {
     "data": {
      "text/plain": [
       "(3, 3)"
      ]
     },
     "execution_count": 19,
     "metadata": {},
     "output_type": "execute_result"
    }
   ],
   "source": [
    "n3.shape"
   ]
  },
  {
   "cell_type": "markdown",
   "id": "a1075cb4-c533-488f-b660-ec56666f6072",
   "metadata": {},
   "source": [
    "# initialize numpy array with zeros"
   ]
  },
  {
   "cell_type": "code",
   "execution_count": 26,
   "id": "c0782325-ae5d-4568-a0d4-720be98b9007",
   "metadata": {},
   "outputs": [
    {
     "data": {
      "text/plain": [
       "array([[0., 0., 0., 0., 0., 0., 0., 0., 0.],\n",
       "       [0., 0., 0., 0., 0., 0., 0., 0., 0.],\n",
       "       [0., 0., 0., 0., 0., 0., 0., 0., 0.],\n",
       "       [0., 0., 0., 0., 0., 0., 0., 0., 0.],\n",
       "       [0., 0., 0., 0., 0., 0., 0., 0., 0.],\n",
       "       [0., 0., 0., 0., 0., 0., 0., 0., 0.],\n",
       "       [0., 0., 0., 0., 0., 0., 0., 0., 0.],\n",
       "       [0., 0., 0., 0., 0., 0., 0., 0., 0.],\n",
       "       [0., 0., 0., 0., 0., 0., 0., 0., 0.]])"
      ]
     },
     "execution_count": 26,
     "metadata": {},
     "output_type": "execute_result"
    }
   ],
   "source": [
    "n4=np.zeros((9,9))\n",
    "n4"
   ]
  },
  {
   "cell_type": "markdown",
   "id": "c849675a-e942-42a0-b502-8e3b49a56f51",
   "metadata": {},
   "source": [
    "# initial array matrix with full then"
   ]
  },
  {
   "cell_type": "code",
   "execution_count": 36,
   "id": "0a012e92-9a67-4f68-a75e-3f1a2a45994a",
   "metadata": {},
   "outputs": [
    {
     "data": {
      "text/plain": [
       "array([[9, 9, 9],\n",
       "       [9, 9, 9],\n",
       "       [9, 9, 9]])"
      ]
     },
     "execution_count": 36,
     "metadata": {},
     "output_type": "execute_result"
    }
   ],
   "source": [
    "n4=np.full((3,3),9)\n",
    "n4"
   ]
  },
  {
   "cell_type": "markdown",
   "id": "259b9222-ba89-48c1-a31b-8a774d4e1934",
   "metadata": {},
   "source": [
    "# full range"
   ]
  },
  {
   "cell_type": "code",
   "execution_count": 32,
   "id": "6f390396-5dfc-4433-a8b8-0ac9f2e34adc",
   "metadata": {},
   "outputs": [
    {
     "data": {
      "text/plain": [
       "array([10, 11, 12, 13, 14, 15, 16, 17, 18, 19])"
      ]
     },
     "execution_count": 32,
     "metadata": {},
     "output_type": "execute_result"
    }
   ],
   "source": [
    "n5=np.arange(10,20)\n",
    "n5"
   ]
  },
  {
   "cell_type": "markdown",
   "id": "44d473fa-5765-4eca-88f5-5910e135b394",
   "metadata": {},
   "source": [
    "# initialization of numpy arrays with skip numbers"
   ]
  },
  {
   "cell_type": "code",
   "execution_count": 35,
   "id": "220c9111-50ae-4c70-a5ea-9117e6bc2e4d",
   "metadata": {},
   "outputs": [
    {
     "data": {
      "text/plain": [
       "array([1, 3, 5, 7, 9])"
      ]
     },
     "execution_count": 35,
     "metadata": {},
     "output_type": "execute_result"
    }
   ],
   "source": [
    "n6=np.arange(1,10,2 ) #odd numbers\n",
    "n6"
   ]
  },
  {
   "cell_type": "markdown",
   "id": "f8da8399-05ef-493f-b239-a7f733333b35",
   "metadata": {},
   "source": [
    "# initialization of numpy array with the random numbers"
   ]
  },
  {
   "cell_type": "code",
   "execution_count": 40,
   "id": "f7181ed6-0ce5-4473-afcc-09be893e94e8",
   "metadata": {},
   "outputs": [
    {
     "data": {
      "text/plain": [
       "array([316, 372, 123, 882, 128, 765, 831, 800, 639, 278])"
      ]
     },
     "execution_count": 40,
     "metadata": {},
     "output_type": "execute_result"
    }
   ],
   "source": [
    "n7=np.random.randint(100,1000,10)\n",
    "n7"
   ]
  },
  {
   "cell_type": "markdown",
   "id": "1e5a716b-ab7d-4387-bdcd-dafe32930830",
   "metadata": {},
   "source": [
    "# initialization the array shape changes in a fraction of seconds"
   ]
  },
  {
   "cell_type": "code",
   "execution_count": 43,
   "id": "4d590a60-60bf-4aae-a9b9-297a4a4a4389",
   "metadata": {},
   "outputs": [
    {
     "data": {
      "text/plain": [
       "array([[10, 20, 30],\n",
       "       [30, 40, 50],\n",
       "       [60, 70, 80],\n",
       "       [90, 60, 50]])"
      ]
     },
     "execution_count": 43,
     "metadata": {},
     "output_type": "execute_result"
    }
   ],
   "source": [
    "n8=np.array([[10,20,30],[30,40,50],[60,70,80],[90,60,50]])\n",
    "n8"
   ]
  },
  {
   "cell_type": "code",
   "execution_count": 44,
   "id": "bb7b943c-1a08-40b4-8ded-48bc8e618289",
   "metadata": {},
   "outputs": [
    {
     "data": {
      "text/plain": [
       "(4, 3)"
      ]
     },
     "execution_count": 44,
     "metadata": {},
     "output_type": "execute_result"
    }
   ],
   "source": [
    "n8.shape"
   ]
  },
  {
   "cell_type": "code",
   "execution_count": 46,
   "id": "150f59ce-9b34-4edc-a3dc-ffbe5017f402",
   "metadata": {},
   "outputs": [
    {
     "data": {
      "text/plain": [
       "array([[10, 20, 30, 30],\n",
       "       [40, 50, 60, 70],\n",
       "       [80, 90, 60, 50]])"
      ]
     },
     "execution_count": 46,
     "metadata": {},
     "output_type": "execute_result"
    }
   ],
   "source": [
    "n8.shape=(3,4)\n",
    "n8"
   ]
  },
  {
   "cell_type": "markdown",
   "id": "a1f06d52-a108-44e2-a4b1-81de81b91237",
   "metadata": {},
   "source": [
    "# joining the numpy array"
   ]
  },
  {
   "cell_type": "code",
   "execution_count": 55,
   "id": "7ec7fc6f-0698-4b2c-a6bc-8887b2b14784",
   "metadata": {},
   "outputs": [],
   "source": [
    "a=np.array([10,20,30,4,5,6,7,8,9,12])\n",
    "b=np.array([1,2,3,4,5,6,7,9,12])"
   ]
  },
  {
   "cell_type": "code",
   "execution_count": 48,
   "id": "bf58a2e6-4395-4aa1-a0be-73a190de553c",
   "metadata": {},
   "outputs": [
    {
     "data": {
      "text/plain": [
       "array([[10, 20, 30,  4,  5,  6,  7,  8,  9, 12],\n",
       "       [ 1,  2,  3,  4,  5,  6,  7,  8,  9, 12]])"
      ]
     },
     "execution_count": 48,
     "metadata": {},
     "output_type": "execute_result"
    }
   ],
   "source": [
    "np.vstack((a,b)) # joining the numpy as vertical section"
   ]
  },
  {
   "cell_type": "code",
   "execution_count": 49,
   "id": "ec5c3c3c-5d77-43e9-a3f6-e5e2aea973b4",
   "metadata": {},
   "outputs": [
    {
     "data": {
      "text/plain": [
       "array([10, 20, 30,  4,  5,  6,  7,  8,  9, 12,  1,  2,  3,  4,  5,  6,  7,\n",
       "        8,  9, 12])"
      ]
     },
     "execution_count": 49,
     "metadata": {},
     "output_type": "execute_result"
    }
   ],
   "source": [
    "np.hstack((a,b)) # joining the numpy as horizontal section"
   ]
  },
  {
   "cell_type": "code",
   "execution_count": 56,
   "id": "5dbbd835-eecb-4a9f-9842-3103de76a489",
   "metadata": {},
   "outputs": [
    {
     "ename": "ValueError",
     "evalue": "all the input array dimensions except for the concatenation axis must match exactly, but along dimension 0, the array at index 0 has size 10 and the array at index 1 has size 9",
     "output_type": "error",
     "traceback": [
      "\u001b[1;31m---------------------------------------------------------------------------\u001b[0m",
      "\u001b[1;31mValueError\u001b[0m                                Traceback (most recent call last)",
      "Cell \u001b[1;32mIn[56], line 1\u001b[0m\n\u001b[1;32m----> 1\u001b[0m np\u001b[38;5;241m.\u001b[39mcolumn_stack((a,b))\n",
      "File \u001b[1;32m~\\anaconda3\\Lib\\site-packages\\numpy\\lib\\shape_base.py:652\u001b[0m, in \u001b[0;36mcolumn_stack\u001b[1;34m(tup)\u001b[0m\n\u001b[0;32m    650\u001b[0m         arr \u001b[38;5;241m=\u001b[39m array(arr, copy\u001b[38;5;241m=\u001b[39m\u001b[38;5;28;01mFalse\u001b[39;00m, subok\u001b[38;5;241m=\u001b[39m\u001b[38;5;28;01mTrue\u001b[39;00m, ndmin\u001b[38;5;241m=\u001b[39m\u001b[38;5;241m2\u001b[39m)\u001b[38;5;241m.\u001b[39mT\n\u001b[0;32m    651\u001b[0m     arrays\u001b[38;5;241m.\u001b[39mappend(arr)\n\u001b[1;32m--> 652\u001b[0m \u001b[38;5;28;01mreturn\u001b[39;00m _nx\u001b[38;5;241m.\u001b[39mconcatenate(arrays, \u001b[38;5;241m1\u001b[39m)\n",
      "\u001b[1;31mValueError\u001b[0m: all the input array dimensions except for the concatenation axis must match exactly, but along dimension 0, the array at index 0 has size 10 and the array at index 1 has size 9"
     ]
    }
   ],
   "source": [
    "np.column_stack((a,b)) #joining the numpy as column"
   ]
  },
  {
   "cell_type": "markdown",
   "id": "4cd7d3b3-453c-4330-9078-62973149dff4",
   "metadata": {},
   "source": [
    "# numpy intersection and difference"
   ]
  },
  {
   "cell_type": "code",
   "execution_count": 58,
   "id": "4fee3a9b-450d-4b86-9d10-d1df3a95623f",
   "metadata": {},
   "outputs": [],
   "source": [
    "x=np.array([1,4,6,7,8,9,12])\n",
    "y=np.array([1,4,5,6,7,8,12])\n"
   ]
  },
  {
   "cell_type": "code",
   "execution_count": 59,
   "id": "e28c1f69-bf30-4d17-ad40-50d1a9c025d2",
   "metadata": {},
   "outputs": [
    {
     "data": {
      "text/plain": [
       "array([ 1,  4,  6,  7,  8, 12])"
      ]
     },
     "execution_count": 59,
     "metadata": {},
     "output_type": "execute_result"
    }
   ],
   "source": [
    "np.intersect1d(x,y)"
   ]
  },
  {
   "cell_type": "code",
   "execution_count": 60,
   "id": "bde075ab-722e-43b2-b76f-24e7758ed8e0",
   "metadata": {},
   "outputs": [
    {
     "data": {
      "text/plain": [
       "array([9])"
      ]
     },
     "execution_count": 60,
     "metadata": {},
     "output_type": "execute_result"
    }
   ],
   "source": [
    "np.setdiff1d(x,y)"
   ]
  },
  {
   "cell_type": "markdown",
   "id": "14ac51fa-4b80-4dab-9e78-a6c03728884b",
   "metadata": {},
   "source": [
    "# addition of numpy arrays"
   ]
  },
  {
   "cell_type": "code",
   "execution_count": 66,
   "id": "a1edae3c-e806-4df3-902b-ef1e960d5443",
   "metadata": {},
   "outputs": [],
   "source": [
    "t=np.array([10,20])\n",
    "s=np.array([10,2])"
   ]
  },
  {
   "cell_type": "code",
   "execution_count": 67,
   "id": "5524b531-d1d6-4c62-bb90-fc89454b16f6",
   "metadata": {},
   "outputs": [
    {
     "data": {
      "text/plain": [
       "42"
      ]
     },
     "execution_count": 67,
     "metadata": {},
     "output_type": "execute_result"
    }
   ],
   "source": [
    "np.sum([t,s])"
   ]
  },
  {
   "cell_type": "code",
   "execution_count": 76,
   "id": "9552770c-71c2-4de8-bff8-ff191ff00230",
   "metadata": {},
   "outputs": [
    {
     "data": {
      "text/plain": [
       "array([30, 12])"
      ]
     },
     "execution_count": 76,
     "metadata": {},
     "output_type": "execute_result"
    }
   ],
   "source": [
    "np.sum([t,s],axis = 1)# columnaddition"
   ]
  },
  {
   "cell_type": "code",
   "execution_count": 73,
   "id": "eaae1866-f6cd-411c-9e78-766357cf1a67",
   "metadata": {},
   "outputs": [
    {
     "data": {
      "text/plain": [
       "array([20, 22])"
      ]
     },
     "execution_count": 73,
     "metadata": {},
     "output_type": "execute_result"
    }
   ],
   "source": [
    "np.sum([t,s],axis = 0)# row addition"
   ]
  },
  {
   "cell_type": "markdown",
   "id": "b6c78b72-2998-4ea5-9ff0-e1c326900a73",
   "metadata": {},
   "source": [
    "# NUmpy array of mathematics"
   ]
  },
  {
   "cell_type": "code",
   "execution_count": 74,
   "id": "3da9ec92-653c-45ec-8302-1da06301c8c0",
   "metadata": {},
   "outputs": [],
   "source": [
    "p=np.array([10,20,30])"
   ]
  },
  {
   "cell_type": "code",
   "execution_count": 75,
   "id": "aae5daee-eb02-47eb-ba37-579c91afa2ad",
   "metadata": {},
   "outputs": [
    {
     "data": {
      "text/plain": [
       "array([11, 21, 31])"
      ]
     },
     "execution_count": 75,
     "metadata": {},
     "output_type": "execute_result"
    }
   ],
   "source": [
    "p+1"
   ]
  },
  {
   "cell_type": "code",
   "execution_count": 77,
   "id": "2a1c8f03-71e6-4cb3-bc1c-cd4de756b8d9",
   "metadata": {},
   "outputs": [
    {
     "data": {
      "text/plain": [
       "array([ 9, 19, 29])"
      ]
     },
     "execution_count": 77,
     "metadata": {},
     "output_type": "execute_result"
    }
   ],
   "source": [
    "p-1"
   ]
  },
  {
   "cell_type": "code",
   "execution_count": 78,
   "id": "fc238a50-7cec-49ec-954d-ee87300ef69c",
   "metadata": {},
   "outputs": [
    {
     "data": {
      "text/plain": [
       "array([20, 40, 60])"
      ]
     },
     "execution_count": 78,
     "metadata": {},
     "output_type": "execute_result"
    }
   ],
   "source": [
    "p*2"
   ]
  },
  {
   "cell_type": "code",
   "execution_count": 79,
   "id": "423cf214-a956-4b48-8f8d-cce31a3724f1",
   "metadata": {},
   "outputs": [
    {
     "data": {
      "text/plain": [
       "array([30, 60, 90])"
      ]
     },
     "execution_count": 79,
     "metadata": {},
     "output_type": "execute_result"
    }
   ],
   "source": [
    "p*3"
   ]
  },
  {
   "cell_type": "code",
   "execution_count": 80,
   "id": "744ca4a5-63c4-4226-86d9-dfc49ab94525",
   "metadata": {},
   "outputs": [
    {
     "data": {
      "text/plain": [
       "array([2.5, 5. , 7.5])"
      ]
     },
     "execution_count": 80,
     "metadata": {},
     "output_type": "execute_result"
    }
   ],
   "source": [
    "p/4"
   ]
  },
  {
   "cell_type": "markdown",
   "id": "f7804e09-1efb-4964-918d-4c30224438f5",
   "metadata": {},
   "source": [
    "# numpy maths of functions"
   ]
  },
  {
   "cell_type": "code",
   "execution_count": 126,
   "id": "8a48fba8-9b78-4d86-8ad6-a278cfc3bdaa",
   "metadata": {},
   "outputs": [],
   "source": [
    "import numpy as np\n",
    "nn=np.array([10,20,10,30])"
   ]
  },
  {
   "cell_type": "code",
   "execution_count": 127,
   "id": "7f9d580e-51a0-4b87-828c-bb304df7bdc6",
   "metadata": {},
   "outputs": [
    {
     "data": {
      "text/plain": [
       "17.5"
      ]
     },
     "execution_count": 127,
     "metadata": {},
     "output_type": "execute_result"
    }
   ],
   "source": [
    "np.mean(nn)"
   ]
  },
  {
   "cell_type": "code",
   "execution_count": 128,
   "id": "c226bf21-b990-4a02-b55a-7125c77afd91",
   "metadata": {},
   "outputs": [
    {
     "data": {
      "text/plain": [
       "15.0"
      ]
     },
     "execution_count": 128,
     "metadata": {},
     "output_type": "execute_result"
    }
   ],
   "source": [
    "np.median(nn)"
   ]
  },
  {
   "cell_type": "code",
   "execution_count": 129,
   "id": "3d42d626-1585-4c3d-821e-799cf313f79b",
   "metadata": {},
   "outputs": [
    {
     "data": {
      "text/plain": [
       "8.2915619758885"
      ]
     },
     "execution_count": 129,
     "metadata": {},
     "output_type": "execute_result"
    }
   ],
   "source": [
    "np.std(nn)"
   ]
  },
  {
   "cell_type": "code",
   "execution_count": 130,
   "id": "db0d3765-d30f-420e-93ce-ba4bc3fa9ddf",
   "metadata": {},
   "outputs": [
    {
     "data": {
      "text/plain": [
       "68.75"
      ]
     },
     "execution_count": 130,
     "metadata": {},
     "output_type": "execute_result"
    }
   ],
   "source": [
    "np.var(nn)"
   ]
  },
  {
   "cell_type": "code",
   "execution_count": 131,
   "id": "5783dd41-f2dd-4725-8c2a-a88fa39afb73",
   "metadata": {},
   "outputs": [
    {
     "data": {
      "text/plain": [
       "30"
      ]
     },
     "execution_count": 131,
     "metadata": {},
     "output_type": "execute_result"
    }
   ],
   "source": [
    "np.max(nn)"
   ]
  },
  {
   "cell_type": "code",
   "execution_count": 132,
   "id": "8e12a08f-530d-4ca2-97a1-ee41eae730db",
   "metadata": {},
   "outputs": [
    {
     "data": {
      "text/plain": [
       "22.5"
      ]
     },
     "execution_count": 132,
     "metadata": {},
     "output_type": "execute_result"
    }
   ],
   "source": [
    "np.percentile(nn,75)"
   ]
  },
  {
   "cell_type": "code",
   "execution_count": 133,
   "id": "8d74ab76-c6f2-4dc1-9f2f-e9b122e3c388",
   "metadata": {},
   "outputs": [
    {
     "data": {
      "text/plain": [
       "17.5"
      ]
     },
     "execution_count": 133,
     "metadata": {},
     "output_type": "execute_result"
    }
   ],
   "source": [
    "np.average(nn)"
   ]
  },
  {
   "cell_type": "code",
   "execution_count": 110,
   "id": "4cc35257-feb0-4dfc-a74c-6e1b2e54dd92",
   "metadata": {},
   "outputs": [
    {
     "data": {
      "text/plain": [
       "array(166.66666667)"
      ]
     },
     "execution_count": 110,
     "metadata": {},
     "output_type": "execute_result"
    }
   ],
   "source": [
    "np.cov(nn)"
   ]
  },
  {
   "cell_type": "code",
   "execution_count": 111,
   "id": "40cf3de7-bffa-43a4-9ce3-20d861b51471",
   "metadata": {},
   "outputs": [
    {
     "data": {
      "text/plain": [
       "25.0"
      ]
     },
     "execution_count": 111,
     "metadata": {},
     "output_type": "execute_result"
    }
   ],
   "source": [
    "np.mean(nn)"
   ]
  },
  {
   "cell_type": "code",
   "execution_count": 112,
   "id": "98b1f327-c846-406b-a486-eaefc29a6d21",
   "metadata": {},
   "outputs": [
    {
     "data": {
      "text/plain": [
       "11.180339887498949"
      ]
     },
     "execution_count": 112,
     "metadata": {},
     "output_type": "execute_result"
    }
   ],
   "source": [
    "np.std(nn)"
   ]
  },
  {
   "cell_type": "code",
   "execution_count": 134,
   "id": "ca9b6484-bdb9-40ac-b99d-be24344adf4b",
   "metadata": {},
   "outputs": [
    {
     "data": {
      "text/plain": [
       "ModeResult(mode=10, count=2)"
      ]
     },
     "execution_count": 134,
     "metadata": {},
     "output_type": "execute_result"
    }
   ],
   "source": [
    "from scipy import stats\n",
    "stats.mode(nn)"
   ]
  },
  {
   "cell_type": "markdown",
   "id": "b5bb2098-7396-4de6-882f-3ca5ef382df5",
   "metadata": {},
   "source": [
    "# saving and loading NUmpy array"
   ]
  },
  {
   "cell_type": "code",
   "execution_count": 118,
   "id": "45b94cf8-d76c-4b8d-b296-f5a33ec6c007",
   "metadata": {},
   "outputs": [
    {
     "data": {
      "text/plain": [
       "array([10, 20, 30])"
      ]
     },
     "execution_count": 118,
     "metadata": {},
     "output_type": "execute_result"
    }
   ],
   "source": [
    "import numpy as np\n",
    "n11=np.array([10,20,30])\n",
    "n11"
   ]
  },
  {
   "cell_type": "code",
   "execution_count": 119,
   "id": "9d1fef62-a7ee-4361-9064-fef1d8fb248a",
   "metadata": {},
   "outputs": [],
   "source": [
    "np.save('my_name',n11) #saving the numpy array"
   ]
  },
  {
   "cell_type": "code",
   "execution_count": 120,
   "id": "9a39a8a6-e5e2-4685-8fab-94922bbed589",
   "metadata": {},
   "outputs": [
    {
     "data": {
      "text/plain": [
       "array([10, 20, 30])"
      ]
     },
     "execution_count": 120,
     "metadata": {},
     "output_type": "execute_result"
    }
   ],
   "source": [
    "np.load('my_name.npy') #loading the numpy array"
   ]
  },
  {
   "cell_type": "code",
   "execution_count": 135,
   "id": "8e00dab4-ea9b-48d7-8745-80f97c73dec7",
   "metadata": {},
   "outputs": [
    {
     "name": "stdout",
     "output_type": "stream",
     "text": [
      "Collecting graphviz\n",
      "  Downloading graphviz-0.20.3-py3-none-any.whl.metadata (12 kB)\n",
      "Downloading graphviz-0.20.3-py3-none-any.whl (47 kB)\n",
      "Installing collected packages: graphviz\n",
      "Successfully installed graphviz-0.20.3\n"
     ]
    }
   ],
   "source": [
    "!pip install graphviz"
   ]
  },
  {
   "cell_type": "code",
   "execution_count": 136,
   "id": "2b39afcd-ac1c-443e-b5dd-2181406f9cdc",
   "metadata": {},
   "outputs": [
    {
     "name": "stdout",
     "output_type": "stream",
     "text": [
      "Requirement already satisfied: dask in c:\\users\\prsnn\\anaconda3\\lib\\site-packages (2024.8.2)\n",
      "Requirement already satisfied: click>=8.1 in c:\\users\\prsnn\\anaconda3\\lib\\site-packages (from dask) (8.1.7)\n",
      "Requirement already satisfied: cloudpickle>=3.0.0 in c:\\users\\prsnn\\anaconda3\\lib\\site-packages (from dask) (3.0.0)\n",
      "Requirement already satisfied: fsspec>=2021.09.0 in c:\\users\\prsnn\\anaconda3\\lib\\site-packages (from dask) (2024.6.1)\n",
      "Requirement already satisfied: packaging>=20.0 in c:\\users\\prsnn\\anaconda3\\lib\\site-packages (from dask) (24.1)\n",
      "Requirement already satisfied: partd>=1.4.0 in c:\\users\\prsnn\\anaconda3\\lib\\site-packages (from dask) (1.4.1)\n",
      "Requirement already satisfied: pyyaml>=5.3.1 in c:\\users\\prsnn\\anaconda3\\lib\\site-packages (from dask) (6.0.1)\n",
      "Requirement already satisfied: toolz>=0.10.0 in c:\\users\\prsnn\\anaconda3\\lib\\site-packages (from dask) (0.12.0)\n",
      "Requirement already satisfied: colorama in c:\\users\\prsnn\\anaconda3\\lib\\site-packages (from click>=8.1->dask) (0.4.6)\n",
      "Requirement already satisfied: locket in c:\\users\\prsnn\\anaconda3\\lib\\site-packages (from partd>=1.4.0->dask) (1.0.0)\n"
     ]
    }
   ],
   "source": [
    "!pip install dask"
   ]
  },
  {
   "cell_type": "code",
   "execution_count": 137,
   "id": "e6ddf588-11d0-4d90-8687-d163491bcad7",
   "metadata": {},
   "outputs": [
    {
     "name": "stdout",
     "output_type": "stream",
     "text": [
      "Requirement already satisfied: pandas in c:\\users\\prsnn\\anaconda3\\lib\\site-packages (2.2.2)\n",
      "Requirement already satisfied: numpy>=1.26.0 in c:\\users\\prsnn\\anaconda3\\lib\\site-packages (from pandas) (1.26.4)\n",
      "Requirement already satisfied: python-dateutil>=2.8.2 in c:\\users\\prsnn\\anaconda3\\lib\\site-packages (from pandas) (2.9.0.post0)\n",
      "Requirement already satisfied: pytz>=2020.1 in c:\\users\\prsnn\\anaconda3\\lib\\site-packages (from pandas) (2024.1)\n",
      "Requirement already satisfied: tzdata>=2022.7 in c:\\users\\prsnn\\anaconda3\\lib\\site-packages (from pandas) (2023.3)\n",
      "Requirement already satisfied: six>=1.5 in c:\\users\\prsnn\\anaconda3\\lib\\site-packages (from python-dateutil>=2.8.2->pandas) (1.16.0)\n"
     ]
    }
   ],
   "source": [
    "!pip install pandas"
   ]
  },
  {
   "cell_type": "code",
   "execution_count": null,
   "id": "083dea41-7932-4cfd-ac89-1275d07360c7",
   "metadata": {},
   "outputs": [],
   "source": [
    "!pip install pyspark"
   ]
  },
  {
   "cell_type": "code",
   "execution_count": 1,
   "id": "7319557b-39b0-4ccc-abd4-11c0531def4d",
   "metadata": {},
   "outputs": [
    {
     "name": "stdout",
     "output_type": "stream",
     "text": [
      "Reinitialized existing Git repository in E:/Data_science/.git/\n"
     ]
    }
   ],
   "source": [
    "!git init\n"
   ]
  },
  {
   "cell_type": "code",
   "execution_count": 2,
   "id": "05c83dce-0f20-43a1-a2cc-fea09a745438",
   "metadata": {},
   "outputs": [
    {
     "name": "stderr",
     "output_type": "stream",
     "text": [
      "error: remote origin already exists.\n"
     ]
    }
   ],
   "source": [
    "!git remote add origin https://github.com/ANOT-coder/Data_science-Repo.git\n"
   ]
  },
  {
   "cell_type": "code",
   "execution_count": 4,
   "id": "13fb8553-5fdd-4e9e-9268-ef4285909136",
   "metadata": {},
   "outputs": [
    {
     "name": "stdout",
     "output_type": "stream",
     "text": [
      "Already up to date.\n"
     ]
    },
    {
     "name": "stderr",
     "output_type": "stream",
     "text": [
      "From https://github.com/ANOT-coder/Python\n",
      " * branch            main       -> FETCH_HEAD\n"
     ]
    }
   ],
   "source": [
    "!git pull origin main\n"
   ]
  },
  {
   "cell_type": "code",
   "execution_count": 5,
   "id": "752d0a32-94b6-4042-91a2-ca507fdfc684",
   "metadata": {},
   "outputs": [],
   "source": [
    "! git add .\n"
   ]
  },
  {
   "cell_type": "code",
   "execution_count": 6,
   "id": "dbbde958-4155-4084-b058-51190b89953f",
   "metadata": {},
   "outputs": [
    {
     "name": "stdout",
     "output_type": "stream",
     "text": [
      "On branch main\n",
      "Your branch is up to date with 'origin/main'.\n",
      "\n",
      "Changes to be committed:\n",
      "  (use \"git restore --staged <file>...\" to unstage)\n",
      "\tnew file:   .ipynb_checkpoints/Day1(data_science)-checkpoint.ipynb\n",
      "\tnew file:   Day1(data_science).ipynb\n",
      "\tmodified:   Two1.py\n",
      "\tnew file:   a.py\n",
      "\tnew file:   math.py\n",
      "\tnew file:   my_name.npy\n",
      "\tnew file:   pattern.py\n",
      "\tnew file:   test.py\n",
      "\n"
     ]
    }
   ],
   "source": [
    "!git status\n"
   ]
  },
  {
   "cell_type": "code",
   "execution_count": null,
   "id": "45e9f832-f125-46e5-8a71-c16fcf4d7a23",
   "metadata": {},
   "outputs": [],
   "source": []
  }
 ],
 "metadata": {
  "kernelspec": {
   "display_name": "Python 3 (ipykernel)",
   "language": "python",
   "name": "python3"
  },
  "language_info": {
   "codemirror_mode": {
    "name": "ipython",
    "version": 3
   },
   "file_extension": ".py",
   "mimetype": "text/x-python",
   "name": "python",
   "nbconvert_exporter": "python",
   "pygments_lexer": "ipython3",
   "version": "3.12.7"
  }
 },
 "nbformat": 4,
 "nbformat_minor": 5
}
