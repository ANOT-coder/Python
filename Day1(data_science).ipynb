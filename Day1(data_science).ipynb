{
 "cells": [
  {
   "cell_type": "markdown",
   "id": "04730a49-ce5e-4fca-92c0-736473d03314",
   "metadata": {},
   "source": [
    "# Single Dimension NumPy array"
   ]
  },
  {
   "cell_type": "code",
   "execution_count": 1,
   "id": "ce00b688-3638-4402-9f56-ac460682f71b",
   "metadata": {},
   "outputs": [
    {
     "name": "stdout",
     "output_type": "stream",
     "text": [
      " Volume in drive E is my_domain\n",
      " Volume Serial Number is 7A3D-1185\n",
      "\n",
      " Directory of E:\\Data_science\n",
      "\n",
      "09/06/2025  15:37    <DIR>          .\n",
      "30/05/2025  20:34    <DIR>          .ipynb_checkpoints\n",
      "03/06/2025  17:11                 0 a.py\n",
      "29/05/2025  08:20    <DIR>          anaconda_projects\n",
      "28/05/2025  21:47             1,491 Assignment.py\n",
      "09/06/2025  15:31             1,730 math.py\n",
      "27/05/2025  14:49             2,231 new.py\n",
      "30/05/2025  15:59             3,005 One.py\n",
      "03/06/2025  16:45                99 pattern.py\n",
      "01/06/2025  06:44                 8 README.md\n",
      "03/06/2025  16:28               428 test.py\n",
      "28/05/2025  16:30               252 try.cpp\n",
      "30/05/2025  17:41             1,638 Two.py\n",
      "01/06/2025  06:58             1,989 Two1.py\n",
      "27/05/2025  16:48            24,379 Untitled.ipynb\n",
      "30/05/2025  20:35             5,417 Untitled1.ipynb\n",
      "09/06/2025  15:37               337 Untitled2.ipynb\n",
      "              14 File(s)         43,004 bytes\n",
      "               3 Dir(s)  195,884,654,592 bytes free\n"
     ]
    }
   ],
   "source": [
    "!dir\n"
   ]
  },
  {
   "cell_type": "code",
   "execution_count": 3,
   "id": "0e32e4b3-121e-4baa-9b02-0b4856b0ad0c",
   "metadata": {},
   "outputs": [
    {
     "name": "stdout",
     "output_type": "stream",
     "text": [
      "Requirement already satisfied: numpy in c:\\users\\prsnn\\anaconda3\\lib\\site-packages (1.26.4)\n"
     ]
    }
   ],
   "source": [
    "!pip install numpy\n"
   ]
  },
  {
   "cell_type": "code",
   "execution_count": 4,
   "id": "6e70192a-17da-4054-949e-462c15089d0f",
   "metadata": {},
   "outputs": [],
   "source": [
    "import numpy as np"
   ]
  },
  {
   "cell_type": "code",
   "execution_count": 15,
   "id": "204c5098-6de0-4cdb-9ba6-2526e017b383",
   "metadata": {},
   "outputs": [
    {
     "data": {
      "text/plain": [
       "array([10.+0.j,  2.+0.j,  2.+3.j,  1.+0.j])"
      ]
     },
     "execution_count": 15,
     "metadata": {},
     "output_type": "execute_result"
    }
   ],
   "source": [
    "import numpy as np\n",
    "n2=np.array([10,2.0,2+3j,True]) #we cannot use different datatypes in numpy array\n",
    "n2"
   ]
  },
  {
   "cell_type": "code",
   "execution_count": 11,
   "id": "8221b57b-0d33-463b-99ba-cba9139d9d73",
   "metadata": {},
   "outputs": [
    {
     "data": {
      "text/plain": [
       "array([10, 20, 30, 40])"
      ]
     },
     "execution_count": 11,
     "metadata": {},
     "output_type": "execute_result"
    }
   ],
   "source": [
    "import numpy as np\n",
    "n1=np.array([10,20,30,40]) \n",
    "n1"
   ]
  },
  {
   "cell_type": "markdown",
   "id": "70a80c28-d212-43f3-955e-ed350e6e84c5",
   "metadata": {},
   "source": [
    "type(n1)"
   ]
  },
  {
   "cell_type": "markdown",
   "id": "6881f45a-eaa4-4334-bdd0-7bcc2445d9ff",
   "metadata": {},
   "source": [
    "# MultiDimensional Array"
   ]
  },
  {
   "cell_type": "code",
   "execution_count": 21,
   "id": "9424c75a-badf-4c9d-8215-40d38b981ebe",
   "metadata": {},
   "outputs": [
    {
     "name": "stdout",
     "output_type": "stream",
     "text": [
      "[[10 20 30]\n",
      " [30 40 50]\n",
      " [40 50 60]]\n"
     ]
    }
   ],
   "source": [
    "import numpy as np\n",
    "n3=np.array([[10,20,30],[30,40,50],[40,50,60]])\n",
    "print(n3)"
   ]
  },
  {
   "cell_type": "code",
   "execution_count": 19,
   "id": "53594c9a-d9d0-43f5-916a-5988311b53ae",
   "metadata": {},
   "outputs": [
    {
     "data": {
      "text/plain": [
       "(3, 3)"
      ]
     },
     "execution_count": 19,
     "metadata": {},
     "output_type": "execute_result"
    }
   ],
   "source": [
    "n3.shape"
   ]
  },
  {
   "cell_type": "markdown",
   "id": "a1075cb4-c533-488f-b660-ec56666f6072",
   "metadata": {},
   "source": [
    "# initialize numpy array with zeros"
   ]
  },
  {
   "cell_type": "code",
   "execution_count": 26,
   "id": "c0782325-ae5d-4568-a0d4-720be98b9007",
   "metadata": {},
   "outputs": [
    {
     "data": {
      "text/plain": [
       "array([[0., 0., 0., 0., 0., 0., 0., 0., 0.],\n",
       "       [0., 0., 0., 0., 0., 0., 0., 0., 0.],\n",
       "       [0., 0., 0., 0., 0., 0., 0., 0., 0.],\n",
       "       [0., 0., 0., 0., 0., 0., 0., 0., 0.],\n",
       "       [0., 0., 0., 0., 0., 0., 0., 0., 0.],\n",
       "       [0., 0., 0., 0., 0., 0., 0., 0., 0.],\n",
       "       [0., 0., 0., 0., 0., 0., 0., 0., 0.],\n",
       "       [0., 0., 0., 0., 0., 0., 0., 0., 0.],\n",
       "       [0., 0., 0., 0., 0., 0., 0., 0., 0.]])"
      ]
     },
     "execution_count": 26,
     "metadata": {},
     "output_type": "execute_result"
    }
   ],
   "source": [
    "n4=np.zeros((9,9))\n",
    "n4"
   ]
  },
  {
   "cell_type": "markdown",
   "id": "c849675a-e942-42a0-b502-8e3b49a56f51",
   "metadata": {},
   "source": [
    "# initial array matrix with full then"
   ]
  },
  {
   "cell_type": "code",
   "execution_count": 36,
   "id": "0a012e92-9a67-4f68-a75e-3f1a2a45994a",
   "metadata": {},
   "outputs": [
    {
     "data": {
      "text/plain": [
       "array([[9, 9, 9],\n",
       "       [9, 9, 9],\n",
       "       [9, 9, 9]])"
      ]
     },
     "execution_count": 36,
     "metadata": {},
     "output_type": "execute_result"
    }
   ],
   "source": [
    "n4=np.full((3,3),9)\n",
    "n4"
   ]
  },
  {
   "cell_type": "markdown",
   "id": "259b9222-ba89-48c1-a31b-8a774d4e1934",
   "metadata": {},
   "source": [
    "# full range"
   ]
  },
  {
   "cell_type": "code",
   "execution_count": 32,
   "id": "6f390396-5dfc-4433-a8b8-0ac9f2e34adc",
   "metadata": {},
   "outputs": [
    {
     "data": {
      "text/plain": [
       "array([10, 11, 12, 13, 14, 15, 16, 17, 18, 19])"
      ]
     },
     "execution_count": 32,
     "metadata": {},
     "output_type": "execute_result"
    }
   ],
   "source": [
    "n5=np.arange(10,20)\n",
    "n5"
   ]
  },
  {
   "cell_type": "markdown",
   "id": "44d473fa-5765-4eca-88f5-5910e135b394",
   "metadata": {},
   "source": [
    "# initialization of numpy arrays with skip numbers"
   ]
  },
  {
   "cell_type": "code",
   "execution_count": 35,
   "id": "220c9111-50ae-4c70-a5ea-9117e6bc2e4d",
   "metadata": {},
   "outputs": [
    {
     "data": {
      "text/plain": [
       "array([1, 3, 5, 7, 9])"
      ]
     },
     "execution_count": 35,
     "metadata": {},
     "output_type": "execute_result"
    }
   ],
   "source": [
    "n6=np.arange(1,10,2 ) #odd numbers\n",
    "n6"
   ]
  },
  {
   "cell_type": "markdown",
   "id": "f8da8399-05ef-493f-b239-a7f733333b35",
   "metadata": {},
   "source": [
    "# initialization of numpy array with the random numbers"
   ]
  },
  {
   "cell_type": "code",
   "execution_count": 40,
   "id": "f7181ed6-0ce5-4473-afcc-09be893e94e8",
   "metadata": {},
   "outputs": [
    {
     "data": {
      "text/plain": [
       "array([316, 372, 123, 882, 128, 765, 831, 800, 639, 278])"
      ]
     },
     "execution_count": 40,
     "metadata": {},
     "output_type": "execute_result"
    }
   ],
   "source": [
    "n7=np.random.randint(100,1000,10)\n",
    "n7"
   ]
  },
  {
   "cell_type": "markdown",
   "id": "1e5a716b-ab7d-4387-bdcd-dafe32930830",
   "metadata": {},
   "source": [
    "# initialization the array shape changes in a fraction of seconds"
   ]
  },
  {
   "cell_type": "code",
   "execution_count": 43,
   "id": "4d590a60-60bf-4aae-a9b9-297a4a4a4389",
   "metadata": {},
   "outputs": [
    {
     "data": {
      "text/plain": [
       "array([[10, 20, 30],\n",
       "       [30, 40, 50],\n",
       "       [60, 70, 80],\n",
       "       [90, 60, 50]])"
      ]
     },
     "execution_count": 43,
     "metadata": {},
     "output_type": "execute_result"
    }
   ],
   "source": [
    "n8=np.array([[10,20,30],[30,40,50],[60,70,80],[90,60,50]])\n",
    "n8"
   ]
  },
  {
   "cell_type": "code",
   "execution_count": 44,
   "id": "bb7b943c-1a08-40b4-8ded-48bc8e618289",
   "metadata": {},
   "outputs": [
    {
     "data": {
      "text/plain": [
       "(4, 3)"
      ]
     },
     "execution_count": 44,
     "metadata": {},
     "output_type": "execute_result"
    }
   ],
   "source": [
    "n8.shape"
   ]
  },
  {
   "cell_type": "code",
   "execution_count": 46,
   "id": "150f59ce-9b34-4edc-a3dc-ffbe5017f402",
   "metadata": {},
   "outputs": [
    {
     "data": {
      "text/plain": [
       "array([[10, 20, 30, 30],\n",
       "       [40, 50, 60, 70],\n",
       "       [80, 90, 60, 50]])"
      ]
     },
     "execution_count": 46,
     "metadata": {},
     "output_type": "execute_result"
    }
   ],
   "source": [
    "n8.shape=(3,4)\n",
    "n8"
   ]
  },
  {
   "cell_type": "markdown",
   "id": "a1f06d52-a108-44e2-a4b1-81de81b91237",
   "metadata": {},
   "source": [
    "# joining the numpy array"
   ]
  },
  {
   "cell_type": "code",
   "execution_count": 55,
   "id": "7ec7fc6f-0698-4b2c-a6bc-8887b2b14784",
   "metadata": {},
   "outputs": [],
   "source": [
    "a=np.array([10,20,30,4,5,6,7,8,9,12])\n",
    "b=np.array([1,2,3,4,5,6,7,9,12])"
   ]
  },
  {
   "cell_type": "code",
   "execution_count": 48,
   "id": "bf58a2e6-4395-4aa1-a0be-73a190de553c",
   "metadata": {},
   "outputs": [
    {
     "data": {
      "text/plain": [
       "array([[10, 20, 30,  4,  5,  6,  7,  8,  9, 12],\n",
       "       [ 1,  2,  3,  4,  5,  6,  7,  8,  9, 12]])"
      ]
     },
     "execution_count": 48,
     "metadata": {},
     "output_type": "execute_result"
    }
   ],
   "source": [
    "np.vstack((a,b)) # joining the numpy as vertical section"
   ]
  },
  {
   "cell_type": "code",
   "execution_count": 49,
   "id": "ec5c3c3c-5d77-43e9-a3f6-e5e2aea973b4",
   "metadata": {},
   "outputs": [
    {
     "data": {
      "text/plain": [
       "array([10, 20, 30,  4,  5,  6,  7,  8,  9, 12,  1,  2,  3,  4,  5,  6,  7,\n",
       "        8,  9, 12])"
      ]
     },
     "execution_count": 49,
     "metadata": {},
     "output_type": "execute_result"
    }
   ],
   "source": [
    "np.hstack((a,b)) # joining the numpy as horizontal section"
   ]
  },
  {
   "cell_type": "code",
   "execution_count": 56,
   "id": "5dbbd835-eecb-4a9f-9842-3103de76a489",
   "metadata": {},
   "outputs": [
    {
     "ename": "ValueError",
     "evalue": "all the input array dimensions except for the concatenation axis must match exactly, but along dimension 0, the array at index 0 has size 10 and the array at index 1 has size 9",
     "output_type": "error",
     "traceback": [
      "\u001b[1;31m---------------------------------------------------------------------------\u001b[0m",
      "\u001b[1;31mValueError\u001b[0m                                Traceback (most recent call last)",
      "Cell \u001b[1;32mIn[56], line 1\u001b[0m\n\u001b[1;32m----> 1\u001b[0m np\u001b[38;5;241m.\u001b[39mcolumn_stack((a,b))\n",
      "File \u001b[1;32m~\\anaconda3\\Lib\\site-packages\\numpy\\lib\\shape_base.py:652\u001b[0m, in \u001b[0;36mcolumn_stack\u001b[1;34m(tup)\u001b[0m\n\u001b[0;32m    650\u001b[0m         arr \u001b[38;5;241m=\u001b[39m array(arr, copy\u001b[38;5;241m=\u001b[39m\u001b[38;5;28;01mFalse\u001b[39;00m, subok\u001b[38;5;241m=\u001b[39m\u001b[38;5;28;01mTrue\u001b[39;00m, ndmin\u001b[38;5;241m=\u001b[39m\u001b[38;5;241m2\u001b[39m)\u001b[38;5;241m.\u001b[39mT\n\u001b[0;32m    651\u001b[0m     arrays\u001b[38;5;241m.\u001b[39mappend(arr)\n\u001b[1;32m--> 652\u001b[0m \u001b[38;5;28;01mreturn\u001b[39;00m _nx\u001b[38;5;241m.\u001b[39mconcatenate(arrays, \u001b[38;5;241m1\u001b[39m)\n",
      "\u001b[1;31mValueError\u001b[0m: all the input array dimensions except for the concatenation axis must match exactly, but along dimension 0, the array at index 0 has size 10 and the array at index 1 has size 9"
     ]
    }
   ],
   "source": [
    "np.column_stack((a,b)) #joining the numpy as column"
   ]
  },
  {
   "cell_type": "markdown",
   "id": "4cd7d3b3-453c-4330-9078-62973149dff4",
   "metadata": {},
   "source": [
    "# numpy intersection and difference"
   ]
  },
  {
   "cell_type": "code",
   "execution_count": 58,
   "id": "4fee3a9b-450d-4b86-9d10-d1df3a95623f",
   "metadata": {},
   "outputs": [],
   "source": [
    "x=np.array([1,4,6,7,8,9,12])\n",
    "y=np.array([1,4,5,6,7,8,12])\n"
   ]
  },
  {
   "cell_type": "code",
   "execution_count": 59,
   "id": "e28c1f69-bf30-4d17-ad40-50d1a9c025d2",
   "metadata": {},
   "outputs": [
    {
     "data": {
      "text/plain": [
       "array([ 1,  4,  6,  7,  8, 12])"
      ]
     },
     "execution_count": 59,
     "metadata": {},
     "output_type": "execute_result"
    }
   ],
   "source": [
    "np.intersect1d(x,y)"
   ]
  },
  {
   "cell_type": "code",
   "execution_count": 60,
   "id": "bde075ab-722e-43b2-b76f-24e7758ed8e0",
   "metadata": {},
   "outputs": [
    {
     "data": {
      "text/plain": [
       "array([9])"
      ]
     },
     "execution_count": 60,
     "metadata": {},
     "output_type": "execute_result"
    }
   ],
   "source": [
    "np.setdiff1d(x,y)"
   ]
  },
  {
   "cell_type": "markdown",
   "id": "14ac51fa-4b80-4dab-9e78-a6c03728884b",
   "metadata": {},
   "source": [
    "# addition of numpy arrays"
   ]
  },
  {
   "cell_type": "code",
   "execution_count": 66,
   "id": "a1edae3c-e806-4df3-902b-ef1e960d5443",
   "metadata": {},
   "outputs": [],
   "source": [
    "t=np.array([10,20])\n",
    "s=np.array([10,2])"
   ]
  },
  {
   "cell_type": "code",
   "execution_count": 67,
   "id": "5524b531-d1d6-4c62-bb90-fc89454b16f6",
   "metadata": {},
   "outputs": [
    {
     "data": {
      "text/plain": [
       "42"
      ]
     },
     "execution_count": 67,
     "metadata": {},
     "output_type": "execute_result"
    }
   ],
   "source": [
    "np.sum([t,s])"
   ]
  },
  {
   "cell_type": "code",
   "execution_count": 76,
   "id": "9552770c-71c2-4de8-bff8-ff191ff00230",
   "metadata": {},
   "outputs": [
    {
     "data": {
      "text/plain": [
       "array([30, 12])"
      ]
     },
     "execution_count": 76,
     "metadata": {},
     "output_type": "execute_result"
    }
   ],
   "source": [
    "np.sum([t,s],axis = 1)# columnaddition"
   ]
  },
  {
   "cell_type": "code",
   "execution_count": 73,
   "id": "eaae1866-f6cd-411c-9e78-766357cf1a67",
   "metadata": {},
   "outputs": [
    {
     "data": {
      "text/plain": [
       "array([20, 22])"
      ]
     },
     "execution_count": 73,
     "metadata": {},
     "output_type": "execute_result"
    }
   ],
   "source": [
    "np.sum([t,s],axis = 0)# row addition"
   ]
  },
  {
   "cell_type": "markdown",
   "id": "b6c78b72-2998-4ea5-9ff0-e1c326900a73",
   "metadata": {},
   "source": [
    "# NUmpy array of mathematics"
   ]
  },
  {
   "cell_type": "code",
   "execution_count": 74,
   "id": "3da9ec92-653c-45ec-8302-1da06301c8c0",
   "metadata": {},
   "outputs": [],
   "source": [
    "p=np.array([10,20,30])"
   ]
  },
  {
   "cell_type": "code",
   "execution_count": 75,
   "id": "aae5daee-eb02-47eb-ba37-579c91afa2ad",
   "metadata": {},
   "outputs": [
    {
     "data": {
      "text/plain": [
       "array([11, 21, 31])"
      ]
     },
     "execution_count": 75,
     "metadata": {},
     "output_type": "execute_result"
    }
   ],
   "source": [
    "p+1"
   ]
  },
  {
   "cell_type": "code",
   "execution_count": 77,
   "id": "2a1c8f03-71e6-4cb3-bc1c-cd4de756b8d9",
   "metadata": {},
   "outputs": [
    {
     "data": {
      "text/plain": [
       "array([ 9, 19, 29])"
      ]
     },
     "execution_count": 77,
     "metadata": {},
     "output_type": "execute_result"
    }
   ],
   "source": [
    "p-1"
   ]
  },
  {
   "cell_type": "code",
   "execution_count": 78,
   "id": "fc238a50-7cec-49ec-954d-ee87300ef69c",
   "metadata": {},
   "outputs": [
    {
     "data": {
      "text/plain": [
       "array([20, 40, 60])"
      ]
     },
     "execution_count": 78,
     "metadata": {},
     "output_type": "execute_result"
    }
   ],
   "source": [
    "p*2"
   ]
  },
  {
   "cell_type": "code",
   "execution_count": 79,
   "id": "423cf214-a956-4b48-8f8d-cce31a3724f1",
   "metadata": {},
   "outputs": [
    {
     "data": {
      "text/plain": [
       "array([30, 60, 90])"
      ]
     },
     "execution_count": 79,
     "metadata": {},
     "output_type": "execute_result"
    }
   ],
   "source": [
    "p*3"
   ]
  },
  {
   "cell_type": "code",
   "execution_count": 80,
   "id": "744ca4a5-63c4-4226-86d9-dfc49ab94525",
   "metadata": {},
   "outputs": [
    {
     "data": {
      "text/plain": [
       "array([2.5, 5. , 7.5])"
      ]
     },
     "execution_count": 80,
     "metadata": {},
     "output_type": "execute_result"
    }
   ],
   "source": [
    "p/4"
   ]
  },
  {
   "cell_type": "markdown",
   "id": "f7804e09-1efb-4964-918d-4c30224438f5",
   "metadata": {},
   "source": [
    "# numpy maths of functions"
   ]
  },
  {
   "cell_type": "code",
   "execution_count": 126,
   "id": "8a48fba8-9b78-4d86-8ad6-a278cfc3bdaa",
   "metadata": {},
   "outputs": [],
   "source": [
    "import numpy as np\n",
    "nn=np.array([10,20,10,30])"
   ]
  },
  {
   "cell_type": "code",
   "execution_count": 127,
   "id": "7f9d580e-51a0-4b87-828c-bb304df7bdc6",
   "metadata": {},
   "outputs": [
    {
     "data": {
      "text/plain": [
       "17.5"
      ]
     },
     "execution_count": 127,
     "metadata": {},
     "output_type": "execute_result"
    }
   ],
   "source": [
    "np.mean(nn)"
   ]
  },
  {
   "cell_type": "code",
   "execution_count": 128,
   "id": "c226bf21-b990-4a02-b55a-7125c77afd91",
   "metadata": {},
   "outputs": [
    {
     "data": {
      "text/plain": [
       "15.0"
      ]
     },
     "execution_count": 128,
     "metadata": {},
     "output_type": "execute_result"
    }
   ],
   "source": [
    "np.median(nn)"
   ]
  },
  {
   "cell_type": "code",
   "execution_count": 129,
   "id": "3d42d626-1585-4c3d-821e-799cf313f79b",
   "metadata": {},
   "outputs": [
    {
     "data": {
      "text/plain": [
       "8.2915619758885"
      ]
     },
     "execution_count": 129,
     "metadata": {},
     "output_type": "execute_result"
    }
   ],
   "source": [
    "np.std(nn)"
   ]
  },
  {
   "cell_type": "code",
   "execution_count": 130,
   "id": "db0d3765-d30f-420e-93ce-ba4bc3fa9ddf",
   "metadata": {},
   "outputs": [
    {
     "data": {
      "text/plain": [
       "68.75"
      ]
     },
     "execution_count": 130,
     "metadata": {},
     "output_type": "execute_result"
    }
   ],
   "source": [
    "np.var(nn)"
   ]
  },
  {
   "cell_type": "code",
   "execution_count": 131,
   "id": "5783dd41-f2dd-4725-8c2a-a88fa39afb73",
   "metadata": {},
   "outputs": [
    {
     "data": {
      "text/plain": [
       "30"
      ]
     },
     "execution_count": 131,
     "metadata": {},
     "output_type": "execute_result"
    }
   ],
   "source": [
    "np.max(nn)"
   ]
  },
  {
   "cell_type": "code",
   "execution_count": 132,
   "id": "8e12a08f-530d-4ca2-97a1-ee41eae730db",
   "metadata": {},
   "outputs": [
    {
     "data": {
      "text/plain": [
       "22.5"
      ]
     },
     "execution_count": 132,
     "metadata": {},
     "output_type": "execute_result"
    }
   ],
   "source": [
    "np.percentile(nn,75)"
   ]
  },
  {
   "cell_type": "code",
   "execution_count": 133,
   "id": "8d74ab76-c6f2-4dc1-9f2f-e9b122e3c388",
   "metadata": {},
   "outputs": [
    {
     "data": {
      "text/plain": [
       "17.5"
      ]
     },
     "execution_count": 133,
     "metadata": {},
     "output_type": "execute_result"
    }
   ],
   "source": [
    "np.average(nn)"
   ]
  },
  {
   "cell_type": "code",
   "execution_count": 110,
   "id": "4cc35257-feb0-4dfc-a74c-6e1b2e54dd92",
   "metadata": {},
   "outputs": [
    {
     "data": {
      "text/plain": [
       "array(166.66666667)"
      ]
     },
     "execution_count": 110,
     "metadata": {},
     "output_type": "execute_result"
    }
   ],
   "source": [
    "np.cov(nn)"
   ]
  },
  {
   "cell_type": "code",
   "execution_count": 111,
   "id": "40cf3de7-bffa-43a4-9ce3-20d861b51471",
   "metadata": {},
   "outputs": [
    {
     "data": {
      "text/plain": [
       "25.0"
      ]
     },
     "execution_count": 111,
     "metadata": {},
     "output_type": "execute_result"
    }
   ],
   "source": [
    "np.mean(nn)"
   ]
  },
  {
   "cell_type": "code",
   "execution_count": 112,
   "id": "98b1f327-c846-406b-a486-eaefc29a6d21",
   "metadata": {},
   "outputs": [
    {
     "data": {
      "text/plain": [
       "11.180339887498949"
      ]
     },
     "execution_count": 112,
     "metadata": {},
     "output_type": "execute_result"
    }
   ],
   "source": [
    "np.std(nn)"
   ]
  },
  {
   "cell_type": "code",
   "execution_count": 134,
   "id": "ca9b6484-bdb9-40ac-b99d-be24344adf4b",
   "metadata": {},
   "outputs": [
    {
     "data": {
      "text/plain": [
       "ModeResult(mode=10, count=2)"
      ]
     },
     "execution_count": 134,
     "metadata": {},
     "output_type": "execute_result"
    }
   ],
   "source": [
    "from scipy import stats\n",
    "stats.mode(nn)"
   ]
  },
  {
   "cell_type": "markdown",
   "id": "b5bb2098-7396-4de6-882f-3ca5ef382df5",
   "metadata": {},
   "source": [
    "# saving and loading NUmpy array"
   ]
  },
  {
   "cell_type": "code",
   "execution_count": 118,
   "id": "45b94cf8-d76c-4b8d-b296-f5a33ec6c007",
   "metadata": {},
   "outputs": [
    {
     "data": {
      "text/plain": [
       "array([10, 20, 30])"
      ]
     },
     "execution_count": 118,
     "metadata": {},
     "output_type": "execute_result"
    }
   ],
   "source": [
    "import numpy as np\n",
    "n11=np.array([10,20,30])\n",
    "n11"
   ]
  },
  {
   "cell_type": "code",
   "execution_count": 119,
   "id": "9d1fef62-a7ee-4361-9064-fef1d8fb248a",
   "metadata": {},
   "outputs": [],
   "source": [
    "np.save('my_name',n11) #saving the numpy array"
   ]
  },
  {
   "cell_type": "code",
   "execution_count": 120,
   "id": "9a39a8a6-e5e2-4685-8fab-94922bbed589",
   "metadata": {},
   "outputs": [
    {
     "data": {
      "text/plain": [
       "array([10, 20, 30])"
      ]
     },
     "execution_count": 120,
     "metadata": {},
     "output_type": "execute_result"
    }
   ],
   "source": [
    "np.load('my_name.npy') #loading the numpy array"
   ]
  },
  {
   "cell_type": "code",
   "execution_count": 135,
   "id": "8e00dab4-ea9b-48d7-8745-80f97c73dec7",
   "metadata": {},
   "outputs": [
    {
     "name": "stdout",
     "output_type": "stream",
     "text": [
      "Collecting graphviz\n",
      "  Downloading graphviz-0.20.3-py3-none-any.whl.metadata (12 kB)\n",
      "Downloading graphviz-0.20.3-py3-none-any.whl (47 kB)\n",
      "Installing collected packages: graphviz\n",
      "Successfully installed graphviz-0.20.3\n"
     ]
    }
   ],
   "source": [
    "!pip install graphviz"
   ]
  },
  {
   "cell_type": "code",
   "execution_count": 136,
   "id": "2b39afcd-ac1c-443e-b5dd-2181406f9cdc",
   "metadata": {},
   "outputs": [
    {
     "name": "stdout",
     "output_type": "stream",
     "text": [
      "Requirement already satisfied: dask in c:\\users\\prsnn\\anaconda3\\lib\\site-packages (2024.8.2)\n",
      "Requirement already satisfied: click>=8.1 in c:\\users\\prsnn\\anaconda3\\lib\\site-packages (from dask) (8.1.7)\n",
      "Requirement already satisfied: cloudpickle>=3.0.0 in c:\\users\\prsnn\\anaconda3\\lib\\site-packages (from dask) (3.0.0)\n",
      "Requirement already satisfied: fsspec>=2021.09.0 in c:\\users\\prsnn\\anaconda3\\lib\\site-packages (from dask) (2024.6.1)\n",
      "Requirement already satisfied: packaging>=20.0 in c:\\users\\prsnn\\anaconda3\\lib\\site-packages (from dask) (24.1)\n",
      "Requirement already satisfied: partd>=1.4.0 in c:\\users\\prsnn\\anaconda3\\lib\\site-packages (from dask) (1.4.1)\n",
      "Requirement already satisfied: pyyaml>=5.3.1 in c:\\users\\prsnn\\anaconda3\\lib\\site-packages (from dask) (6.0.1)\n",
      "Requirement already satisfied: toolz>=0.10.0 in c:\\users\\prsnn\\anaconda3\\lib\\site-packages (from dask) (0.12.0)\n",
      "Requirement already satisfied: colorama in c:\\users\\prsnn\\anaconda3\\lib\\site-packages (from click>=8.1->dask) (0.4.6)\n",
      "Requirement already satisfied: locket in c:\\users\\prsnn\\anaconda3\\lib\\site-packages (from partd>=1.4.0->dask) (1.0.0)\n"
     ]
    }
   ],
   "source": [
    "!pip install dask"
   ]
  },
  {
   "cell_type": "code",
   "execution_count": 137,
   "id": "e6ddf588-11d0-4d90-8687-d163491bcad7",
   "metadata": {},
   "outputs": [
    {
     "name": "stdout",
     "output_type": "stream",
     "text": [
      "Requirement already satisfied: pandas in c:\\users\\prsnn\\anaconda3\\lib\\site-packages (2.2.2)\n",
      "Requirement already satisfied: numpy>=1.26.0 in c:\\users\\prsnn\\anaconda3\\lib\\site-packages (from pandas) (1.26.4)\n",
      "Requirement already satisfied: python-dateutil>=2.8.2 in c:\\users\\prsnn\\anaconda3\\lib\\site-packages (from pandas) (2.9.0.post0)\n",
      "Requirement already satisfied: pytz>=2020.1 in c:\\users\\prsnn\\anaconda3\\lib\\site-packages (from pandas) (2024.1)\n",
      "Requirement already satisfied: tzdata>=2022.7 in c:\\users\\prsnn\\anaconda3\\lib\\site-packages (from pandas) (2023.3)\n",
      "Requirement already satisfied: six>=1.5 in c:\\users\\prsnn\\anaconda3\\lib\\site-packages (from python-dateutil>=2.8.2->pandas) (1.16.0)\n"
     ]
    }
   ],
   "source": [
    "!pip install pandas"
   ]
  },
  {
   "cell_type": "code",
   "execution_count": null,
   "id": "083dea41-7932-4cfd-ac89-1275d07360c7",
   "metadata": {},
   "outputs": [],
   "source": [
    "!pip install pyspark"
   ]
  },
  {
   "cell_type": "code",
   "execution_count": 1,
   "id": "7319557b-39b0-4ccc-abd4-11c0531def4d",
   "metadata": {},
   "outputs": [
    {
     "name": "stdout",
     "output_type": "stream",
     "text": [
      "Reinitialized existing Git repository in E:/Data_science/.git/\n"
     ]
    }
   ],
   "source": [
    "!git init\n"
   ]
  },
  {
   "cell_type": "code",
   "execution_count": 2,
   "id": "05c83dce-0f20-43a1-a2cc-fea09a745438",
   "metadata": {},
   "outputs": [
    {
     "name": "stderr",
     "output_type": "stream",
     "text": [
      "error: remote origin already exists.\n"
     ]
    }
   ],
   "source": [
    "!git remote add origin https://github.com/ANOT-coder/Data_science-Repo.git\n"
   ]
  },
  {
   "cell_type": "code",
   "execution_count": 4,
   "id": "13fb8553-5fdd-4e9e-9268-ef4285909136",
   "metadata": {},
   "outputs": [
    {
     "name": "stdout",
     "output_type": "stream",
     "text": [
      "Already up to date.\n"
     ]
    },
    {
     "name": "stderr",
     "output_type": "stream",
     "text": [
      "From https://github.com/ANOT-coder/Python\n",
      " * branch            main       -> FETCH_HEAD\n"
     ]
    }
   ],
   "source": [
    "!git pull origin main\n"
   ]
  },
  {
   "cell_type": "code",
   "execution_count": 5,
   "id": "752d0a32-94b6-4042-91a2-ca507fdfc684",
   "metadata": {},
   "outputs": [],
   "source": [
    "! git add .\n"
   ]
  },
  {
   "cell_type": "code",
   "execution_count": 6,
   "id": "dbbde958-4155-4084-b058-51190b89953f",
   "metadata": {},
   "outputs": [
    {
     "name": "stdout",
     "output_type": "stream",
     "text": [
      "On branch main\n",
      "Your branch is up to date with 'origin/main'.\n",
      "\n",
      "Changes to be committed:\n",
      "  (use \"git restore --staged <file>...\" to unstage)\n",
      "\tnew file:   .ipynb_checkpoints/Day1(data_science)-checkpoint.ipynb\n",
      "\tnew file:   Day1(data_science).ipynb\n",
      "\tmodified:   Two1.py\n",
      "\tnew file:   a.py\n",
      "\tnew file:   math.py\n",
      "\tnew file:   my_name.npy\n",
      "\tnew file:   pattern.py\n",
      "\tnew file:   test.py\n",
      "\n"
     ]
    }
   ],
   "source": [
    "!git status\n"
   ]
  },
  {
   "cell_type": "code",
   "execution_count": 7,
   "id": "45e9f832-f125-46e5-8a71-c16fcf4d7a23",
   "metadata": {},
   "outputs": [],
   "source": [
    "! git add Day1(data_science).ipynb"
   ]
  },
  {
   "cell_type": "code",
   "execution_count": 9,
   "id": "cd43a24b-2e45-4823-8010-04b69107bdca",
   "metadata": {},
   "outputs": [
    {
     "name": "stdout",
     "output_type": "stream",
     "text": [
      "On branch main\n",
      "Your branch is up to date with 'origin/main'.\n",
      "\n",
      "Changes to be committed:\n",
      "  (use \"git restore --staged <file>...\" to unstage)\n",
      "\tnew file:   .ipynb_checkpoints/Day1(data_science)-checkpoint.ipynb\n",
      "\tnew file:   Day1(data_science).ipynb\n",
      "\tmodified:   Two1.py\n",
      "\tnew file:   a.py\n",
      "\tnew file:   math.py\n",
      "\tnew file:   my_name.npy\n",
      "\tnew file:   pattern.py\n",
      "\tnew file:   test.py\n",
      "\n"
     ]
    }
   ],
   "source": [
    "!git status\n"
   ]
  },
  {
   "cell_type": "code",
   "execution_count": 10,
   "id": "00a62e8b-ee68-4941-b616-9f4f5b190243",
   "metadata": {},
   "outputs": [
    {
     "name": "stdout",
     "output_type": "stream",
     "text": [
      "[main 524b63d] Day1\n",
      " 8 files changed, 2043 insertions(+), 7 deletions(-)\n",
      " create mode 100644 .ipynb_checkpoints/Day1(data_science)-checkpoint.ipynb\n",
      " create mode 100644 Day1(data_science).ipynb\n",
      " create mode 100644 a.py\n",
      " create mode 100644 math.py\n",
      " create mode 100644 my_name.npy\n",
      " create mode 100644 pattern.py\n",
      " create mode 100644 test.py\n"
     ]
    }
   ],
   "source": [
    "!git commit -m \"Day1\""
   ]
  },
  {
   "cell_type": "code",
   "execution_count": null,
   "id": "79e432a4-f6b9-4a76-98df-904716886d30",
   "metadata": {},
   "outputs": [],
   "source": [
    "! git push origin main\n"
   ]
  },
  {
   "cell_type": "markdown",
   "id": "63b84ac8-6d3b-4f9b-bf6e-6e8d94c7c136",
   "metadata": {},
   "source": [
    "# array creation"
   ]
  },
  {
   "cell_type": "markdown",
   "id": "42ac26fb-d119-4d4c-b758-a9197fd116c1",
   "metadata": {},
   "source": [
    "#uniform samples"
   ]
  },
  {
   "cell_type": "code",
   "execution_count": 9,
   "id": "55d81da2-e61c-40f3-886b-21e6a54ac5b0",
   "metadata": {},
   "outputs": [
    {
     "data": {
      "text/plain": [
       "array([9.72067152, 9.77327783, 9.0947146 , 8.88854627])"
      ]
     },
     "execution_count": 9,
     "metadata": {},
     "output_type": "execute_result"
    }
   ],
   "source": [
    "import numpy as np\n",
    "np.random.uniform(5,10,size = 4) # used for otp generation"
   ]
  },
  {
   "cell_type": "code",
   "execution_count": null,
   "id": "3df57868-83d5-469e-b992-20b09a804aa2",
   "metadata": {},
   "outputs": [],
   "source": [
    "np.random.uniform(size=5)"
   ]
  },
  {
   "cell_type": "code",
   "execution_count": 6,
   "id": "47db0e5f-e502-4771-90d2-a16fe4967fe0",
   "metadata": {},
   "outputs": [
    {
     "data": {
      "text/plain": [
       "array([[0.09338737, 0.22544702, 0.91046458],\n",
       "       [0.60603449, 0.94031867, 0.20295212]])"
      ]
     },
     "execution_count": 6,
     "metadata": {},
     "output_type": "execute_result"
    }
   ],
   "source": [
    "np.random.uniform(size=(2,3))"
   ]
  },
  {
   "cell_type": "markdown",
   "id": "5ca9e596-6ef1-4f3b-ba1c-09d857f73b40",
   "metadata": {},
   "source": [
    "#logspace"
   ]
  },
  {
   "cell_type": "code",
   "execution_count": 8,
   "id": "530f5a71-fb3e-4369-8031-6d9e894b977e",
   "metadata": {},
   "outputs": [
    {
     "data": {
      "text/plain": [
       "array([1.00000000e+00, 5.65685425e+00, 3.20000000e+01, 1.81019336e+02,\n",
       "       1.02400000e+03])"
      ]
     },
     "execution_count": 8,
     "metadata": {},
     "output_type": "execute_result"
    }
   ],
   "source": [
    "np.logspace(0,10,5,base=2)"
   ]
  },
  {
   "cell_type": "code",
   "execution_count": 10,
   "id": "e189ac38-28bb-4093-a35e-58e223205285",
   "metadata": {},
   "outputs": [],
   "source": [
    "#identity"
   ]
  },
  {
   "cell_type": "code",
   "execution_count": 11,
   "id": "f23967c2-0ad9-4424-9329-87c2dd0cbdee",
   "metadata": {},
   "outputs": [
    {
     "data": {
      "text/plain": [
       "array([[1., 0., 0., 0.],\n",
       "       [0., 1., 0., 0.],\n",
       "       [0., 0., 1., 0.],\n",
       "       [0., 0., 0., 1.]])"
      ]
     },
     "execution_count": 11,
     "metadata": {},
     "output_type": "execute_result"
    }
   ],
   "source": [
    "np.identity(4)"
   ]
  },
  {
   "cell_type": "code",
   "execution_count": 13,
   "id": "eb0508ac-3c2a-43f2-af05-9fe302125932",
   "metadata": {},
   "outputs": [
    {
     "data": {
      "text/plain": [
       "array([0, 0, 0, 1, 1, 1, 1, 2, 4], dtype=int64)"
      ]
     },
     "execution_count": 13,
     "metadata": {},
     "output_type": "execute_result"
    }
   ],
   "source": [
    "a=np.array([-0.1,-0.2,0.5,1,1.5,1.4,1.9,2.3,4.5])\n",
    "bins=np.array([1,2,3,4])\n",
    "np.digitize(a,bins)"
   ]
  },
  {
   "cell_type": "markdown",
   "id": "72290034-bdbc-4aa0-88ac-b4ec4cac3165",
   "metadata": {},
   "source": [
    "#expand dimensions"
   ]
  },
  {
   "cell_type": "code",
   "execution_count": 15,
   "id": "02cc554e-c8d3-4bc6-b3f0-152e1a39f976",
   "metadata": {},
   "outputs": [
    {
     "data": {
      "text/plain": [
       "array([[ 8, 14,  5,  6,  7,  8,  9,  7]])"
      ]
     },
     "execution_count": 15,
     "metadata": {},
     "output_type": "execute_result"
    }
   ],
   "source": [
    "arr=np.array([8,14,5,6,7,8,9,7])\n",
    "np.expand_dims(arr,axis=0)"
   ]
  },
  {
   "cell_type": "code",
   "execution_count": 17,
   "id": "bacc085c-05e8-457f-8448-c7a966294fca",
   "metadata": {},
   "outputs": [
    {
     "data": {
      "text/plain": [
       "array([[ 8],\n",
       "       [14],\n",
       "       [ 5],\n",
       "       [ 6],\n",
       "       [ 7],\n",
       "       [ 8],\n",
       "       [ 9],\n",
       "       [ 7]])"
      ]
     },
     "execution_count": 17,
     "metadata": {},
     "output_type": "execute_result"
    }
   ],
   "source": [
    "np.expand_dims(arr,axis=1)"
   ]
  },
  {
   "cell_type": "markdown",
   "id": "57a7dbc1-e1fd-4543-9212-29b3714d2b43",
   "metadata": {},
   "source": [
    "#squeeze "
   ]
  },
  {
   "cell_type": "code",
   "execution_count": 20,
   "id": "8c6a70ea-3220-4da7-9529-56b65a549283",
   "metadata": {},
   "outputs": [
    {
     "data": {
      "text/plain": [
       "array([ 8, 14, 15, 11])"
      ]
     },
     "execution_count": 20,
     "metadata": {},
     "output_type": "execute_result"
    }
   ],
   "source": [
    "arr=np.array([[8],[14],[15],[11]])\n",
    "np.squeeze(arr)"
   ]
  },
  {
   "cell_type": "code",
   "execution_count": 28,
   "id": "4fd7bee2-6aa7-45dd-8612-be701fd569d2",
   "metadata": {},
   "outputs": [
    {
     "data": {
      "text/plain": [
       "2"
      ]
     },
     "execution_count": 28,
     "metadata": {},
     "output_type": "execute_result"
    }
   ],
   "source": [
    "a=np.array([0,0,1,1,1.5])\n",
    "np.count_nonzero(a)\n",
    "abs(len(a))-np.count_nonzero(a)#non zero element\n"
   ]
  },
  {
   "cell_type": "code",
   "execution_count": 30,
   "id": "5aca9016-8dac-4497-9715-f9d95bc5fad3",
   "metadata": {},
   "outputs": [
    {
     "data": {
      "text/plain": [
       "array([ 1,  2,  7,  8,  9, 56])"
      ]
     },
     "execution_count": 30,
     "metadata": {},
     "output_type": "execute_result"
    }
   ],
   "source": [
    "arr=np.array([1,2,56,7,9,8])\n",
    "np.sort(arr)"
   ]
  },
  {
   "cell_type": "code",
   "execution_count": 31,
   "id": "7e5da5a3-f0f3-4015-af64-246bbab63948",
   "metadata": {},
   "outputs": [
    {
     "data": {
      "text/plain": [
       "array([1, 2, 5, 4])"
      ]
     },
     "execution_count": 31,
     "metadata": {},
     "output_type": "execute_result"
    }
   ],
   "source": [
    "#abs\n",
    "A=np.array([-1,-2,-5,4])\n",
    "np.abs(A)"
   ]
  },
  {
   "cell_type": "code",
   "execution_count": 32,
   "id": "dad59a18-d864-4f44-bef5-b2049f137ede",
   "metadata": {},
   "outputs": [
    {
     "data": {
      "text/plain": [
       "array([[0.17731472, 0.07510131, 0.33257981, 0.82793617],\n",
       "       [0.47863223, 0.29443885, 0.64622103, 0.35290386],\n",
       "       [0.93247408, 0.14764044, 0.11840569, 0.22867475]])"
      ]
     },
     "execution_count": 32,
     "metadata": {},
     "output_type": "execute_result"
    }
   ],
   "source": [
    "a=np.random.random(size=(3,4))\n",
    "a"
   ]
  },
  {
   "cell_type": "code",
   "execution_count": 34,
   "id": "33ccc483-4035-431d-8307-11d01a915566",
   "metadata": {},
   "outputs": [
    {
     "data": {
      "text/plain": [
       "array([[0., 0., 0., 1.],\n",
       "       [0., 0., 1., 0.],\n",
       "       [1., 0., 0., 0.]])"
      ]
     },
     "execution_count": 34,
     "metadata": {},
     "output_type": "execute_result"
    }
   ],
   "source": [
    "np.round(a,decimals=0)"
   ]
  },
  {
   "cell_type": "code",
   "execution_count": 35,
   "id": "e5772f36-8542-4c0e-b7b0-4aab06e7ba2e",
   "metadata": {},
   "outputs": [
    {
     "data": {
      "text/plain": [
       "array([[0.2, 0.1, 0.3, 0.8],\n",
       "       [0.5, 0.3, 0.6, 0.4],\n",
       "       [0.9, 0.1, 0.1, 0.2]])"
      ]
     },
     "execution_count": 35,
     "metadata": {},
     "output_type": "execute_result"
    }
   ],
   "source": [
    "np.round(a,decimals=1)"
   ]
  },
  {
   "cell_type": "code",
   "execution_count": 38,
   "id": "96d58eed-b9b8-4623-a9df-b7b8e613d334",
   "metadata": {},
   "outputs": [
    {
     "data": {
      "text/plain": [
       "array([0, 2, 3, 5, 5, 5, 5, 5, 5])"
      ]
     },
     "execution_count": 38,
     "metadata": {},
     "output_type": "execute_result"
    }
   ],
   "source": [
    "arr=np.array([0,2,3,45,8,9,90,5,6])\n",
    "arr.clip(0,5)#certain range ko value dinxa "
   ]
  },
  {
   "cell_type": "code",
   "execution_count": 39,
   "id": "4e6b9d18-a9e0-455b-b092-9247240900c0",
   "metadata": {},
   "outputs": [
    {
     "data": {
      "text/plain": [
       "array([ 1,  2,  3, 45,  8,  9, 90,  5,  6])"
      ]
     },
     "execution_count": 39,
     "metadata": {},
     "output_type": "execute_result"
    }
   ],
   "source": [
    "arr.clip(1,100)"
   ]
  },
  {
   "cell_type": "code",
   "execution_count": 42,
   "id": "3fb5fc60-729f-45cc-900f-143c36d460ab",
   "metadata": {},
   "outputs": [
    {
     "name": "stdout",
     "output_type": "stream",
     "text": [
      "before: [2 4 5]\n",
      "before: [1 3 6]\n",
      "after: [1 3 6]\n",
      "after: [1 3 6]\n"
     ]
    }
   ],
   "source": [
    "#copyto\n",
    "import numpy as np\n",
    "arr1=np.array([2,4,5])\n",
    "arr2=np.array([1,3,6])\n",
    "print(\"before:\",arr1)\n",
    "print(\"before:\",arr2)\n",
    "np.copyto(arr1,arr2)\n",
    "print(\"after:\",arr1)\n",
    "print(\"after:\",arr2)"
   ]
  },
  {
   "cell_type": "code",
   "execution_count": 62,
   "id": "c0899d96-cc4d-4d67-9c06-7392fb23369e",
   "metadata": {},
   "outputs": [],
   "source": [
    "a1=np.array([[1,2,3],[4,5,6],[5,6,7]])\n",
    "b1=np.array([[1,4,3],[3,2,3],[7,8,9]])"
   ]
  },
  {
   "cell_type": "code",
   "execution_count": 63,
   "id": "d7101055-1c8c-4ca3-a486-05cfaec10c94",
   "metadata": {},
   "outputs": [
    {
     "data": {
      "text/plain": [
       "array([[1, 4, 5],\n",
       "       [2, 5, 6],\n",
       "       [3, 6, 7]])"
      ]
     },
     "execution_count": 63,
     "metadata": {},
     "output_type": "execute_result"
    }
   ],
   "source": [
    "np.einsum('ji',a1)# transpose\n"
   ]
  },
  {
   "cell_type": "code",
   "execution_count": 64,
   "id": "ea02a009-02d4-4971-b971-0eed5675f830",
   "metadata": {},
   "outputs": [
    {
     "data": {
      "text/plain": [
       "array([[28, 32, 36],\n",
       "       [61, 74, 81],\n",
       "       [72, 88, 96]])"
      ]
     },
     "execution_count": 64,
     "metadata": {},
     "output_type": "execute_result"
    }
   ],
   "source": [
    "import numpy as np\n",
    "np.einsum('ij , jk',a1,b1)#matrix multiplication"
   ]
  },
  {
   "cell_type": "code",
   "execution_count": 65,
   "id": "1f646444-15fe-4c84-9fdf-7c5f92945da1",
   "metadata": {},
   "outputs": [
    {
     "data": {
      "text/plain": [
       "13"
      ]
     },
     "execution_count": 65,
     "metadata": {},
     "output_type": "execute_result"
    }
   ],
   "source": [
    "np.einsum('ii',a1)"
   ]
  },
  {
   "cell_type": "code",
   "execution_count": 78,
   "id": "bd19b542-cc56-4cbc-ae8a-aacc2d90fcea",
   "metadata": {},
   "outputs": [
    {
     "data": {
      "text/plain": [
       "-1.0000000000000004"
      ]
     },
     "execution_count": 78,
     "metadata": {},
     "output_type": "execute_result"
    }
   ],
   "source": [
    "x=np.array([[2,3],[3,4]])\n",
    "np.linalg.det(x)\n"
   ]
  },
  {
   "cell_type": "code",
   "execution_count": 77,
   "id": "3951c749-1135-4c44-a91e-6bdd5346cf65",
   "metadata": {},
   "outputs": [
    {
     "data": {
      "text/plain": [
       "array([[-4.,  3.],\n",
       "       [ 3., -2.]])"
      ]
     },
     "execution_count": 77,
     "metadata": {},
     "output_type": "execute_result"
    }
   ],
   "source": [
    "np.linalg.inv(x)"
   ]
  },
  {
   "cell_type": "code",
   "execution_count": 81,
   "id": "85393b73-b7dc-4d77-a6d1-ec3e802b44b3",
   "metadata": {},
   "outputs": [
    {
     "name": "stdout",
     "output_type": "stream",
     "text": [
      "6\n"
     ]
    }
   ],
   "source": [
    "#vector\n",
    "import numpy as np\n",
    "#1. basic summation\n",
    "a=np.array([1,2,3])\n",
    "print(np.einsum('i->',a)) #sum over all elements\n",
    "\n",
    "\n",
    "      "
   ]
  },
  {
   "cell_type": "code",
   "execution_count": 82,
   "id": "5f11276f-390d-42fd-bf63-f907a5dee97f",
   "metadata": {},
   "outputs": [
    {
     "name": "stdout",
     "output_type": "stream",
     "text": [
      "11\n"
     ]
    }
   ],
   "source": [
    "#2 element wuse multiplication and summation\n",
    "a=np.array([1,2,3])\n",
    "b=np.array([1,2,2])\n",
    "print(np.einsum('i,i->',a,b))"
   ]
  },
  {
   "cell_type": "code",
   "execution_count": 83,
   "id": "e05f8820-a5b9-4e8d-8b7d-e8e6e1ccebc2",
   "metadata": {},
   "outputs": [
    {
     "name": "stdout",
     "output_type": "stream",
     "text": [
      "[[1 2 2]\n",
      " [2 4 4]\n",
      " [3 6 6]]\n"
     ]
    }
   ],
   "source": [
    "#3 outer product\n",
    "a=np.array([1,2,3])\n",
    "b=np.array([1,2,2])\n",
    "print(np.einsum('i,j->ij',a,b))"
   ]
  },
  {
   "cell_type": "code",
   "execution_count": 84,
   "id": "ec6e0f99-703d-4807-bd7e-6b1c81d646de",
   "metadata": {},
   "outputs": [
    {
     "name": "stdout",
     "output_type": "stream",
     "text": [
      "[[1 1]\n",
      " [2 2]\n",
      " [3 2]]\n"
     ]
    }
   ],
   "source": [
    "#4 matrix transposition\n",
    "a=np.array([[1,2,3],[1,2,2]])\n",
    "print(np.einsum('ij->ji',a))"
   ]
  },
  {
   "cell_type": "code",
   "execution_count": 89,
   "id": "82363cae-7064-4b04-8e73-b3ed55578a2f",
   "metadata": {},
   "outputs": [
    {
     "name": "stdout",
     "output_type": "stream",
     "text": [
      "[23 53 83]\n"
     ]
    }
   ],
   "source": [
    "#5 matrix vector multiplication\n",
    "a=np.array([[1,2],[3,4],[5,6]])\n",
    "b=np.array([7,8])\n",
    "print(np.einsum('ij,j->i',a,b))\n"
   ]
  },
  {
   "cell_type": "code",
   "execution_count": 88,
   "id": "7d1606c1-0c76-42b5-bf82-172f47b05a93",
   "metadata": {},
   "outputs": [
    {
     "name": "stdout",
     "output_type": "stream",
     "text": [
      "[[ 2  4]\n",
      " [16 20]]\n"
     ]
    }
   ],
   "source": [
    "#6 matrix multiplication\n",
    "a=np.array([[1,2],[1,2]])\n",
    "b=np.array([[1,2],[4,5]])\n",
    "print(np.einsum('ij,jk->jk',a,b))\n"
   ]
  },
  {
   "cell_type": "code",
   "execution_count": 91,
   "id": "0092e668-0acb-4910-90c2-b6b6724fe8c5",
   "metadata": {},
   "outputs": [
    {
     "name": "stdout",
     "output_type": "stream",
     "text": [
      "5\n"
     ]
    }
   ],
   "source": [
    "#7 Trace of a matrix\n",
    "a=np.array([[1,2],[3,4]])\n",
    "print(np.einsum('ii->',a))\n",
    "      "
   ]
  },
  {
   "cell_type": "code",
   "execution_count": 95,
   "id": "652beba2-5ffc-4d78-9a0f-61355c2b2fa1",
   "metadata": {},
   "outputs": [
    {
     "name": "stdout",
     "output_type": "stream",
     "text": [
      "[12.35 34.53]\n"
     ]
    }
   ],
   "source": [
    "#array printing options)\n",
    "np.set_printoptions(precision=2)\n",
    "a=np.array([12.3464,34.5346])\n",
    "print(a)"
   ]
  },
  {
   "cell_type": "code",
   "execution_count": 99,
   "id": "f6fb8133-0cbf-4e71-87fd-2907cedecc48",
   "metadata": {},
   "outputs": [],
   "source": [
    "#prints array to its max\n",
    "np.set_printoptions(threshold=np.inf)\n"
   ]
  },
  {
   "cell_type": "code",
   "execution_count": null,
   "id": "32e70e2b-8aa8-475b-a559-2a386f97d24e",
   "metadata": {},
   "outputs": [],
   "source": [
    "a=np.array([[1,2,3],[4,5,6],[7,8,9]])\n",
    "b=np.array([[4,3,2],[3,2,1],[9,8,7]])\n",
    "print."
   ]
  },
  {
   "cell_type": "code",
   "execution_count": null,
   "id": "04b3b2dc-5fa1-4a8f-94ec-390f7cacab90",
   "metadata": {},
   "outputs": [],
   "source": []
  }
 ],
 "metadata": {
  "kernelspec": {
   "display_name": "Python 3 (ipykernel)",
   "language": "python",
   "name": "python3"
  },
  "language_info": {
   "codemirror_mode": {
    "name": "ipython",
    "version": 3
   },
   "file_extension": ".py",
   "mimetype": "text/x-python",
   "name": "python",
   "nbconvert_exporter": "python",
   "pygments_lexer": "ipython3",
   "version": "3.12.7"
  }
 },
 "nbformat": 4,
 "nbformat_minor": 5
}
